{
 "cells": [
  {
   "cell_type": "markdown",
   "id": "18818f4c-0272-4c37-b8b0-92f982b1fbf7",
   "metadata": {},
   "source": [
    "# Documentation of Microservices"
   ]
  },
  {
   "cell_type": "code",
   "execution_count": 1,
   "id": "7d206c2f-8ec9-4e42-b2d8-da38999ad22b",
   "metadata": {
    "tags": []
   },
   "outputs": [],
   "source": [
    "!pip install -q imageio\n",
    "!pip install -q termcolor"
   ]
  },
  {
   "cell_type": "code",
   "execution_count": 2,
   "id": "c8998ff6-09b4-4206-a25b-4fcbf7ed4bf7",
   "metadata": {
    "tags": []
   },
   "outputs": [],
   "source": [
    "import requests, json\n",
    "import matplotlib.pyplot as plt\n",
    "import imageio\n",
    "import numpy as np\n",
    "from termcolor import colored\n",
    "import time"
   ]
  },
  {
   "cell_type": "markdown",
   "id": "feb37499-6bfe-412c-8998-62b5f953cee4",
   "metadata": {
    "tags": []
   },
   "source": [
    "## Define Helper Functions\n",
    "* These helper functions are used only for this notebook for displaying results returned from the microservice API gateway.\n",
    "* They are not necessary when using the the microservice APIs when deploying the frontend."
   ]
  },
  {
   "cell_type": "code",
   "execution_count": 3,
   "id": "b57c650c-2c33-4aac-a8d2-6b507883302b",
   "metadata": {
    "tags": []
   },
   "outputs": [],
   "source": [
    "class bcolors:\n",
    "    HEADER = '\\033[95m'\n",
    "    OKBLUE = '\\033[94m'\n",
    "    OKCYAN = '\\033[96m'\n",
    "    OKGREEN = '\\033[92m'\n",
    "    WARNING = '\\033[93m'\n",
    "    FAIL = '\\033[91m'\n",
    "    ENDC = '\\033[0m'\n",
    "    BOLD = '\\033[1m'\n",
    "    UNDERLINE = '\\033[4m'\n",
    "\n",
    "def print_title(title, max_len = 110):\n",
    "    title = title +\" \" * (max_len-len(title)) +' \"Cite'\n",
    "    print(bcolors.BOLD + bcolors.HEADER + title + bcolors.ENDC)\n",
    "\n",
    "def print_year(year):\n",
    "    print(bcolors.BOLD + bcolors.OKBLUE + str(year) + bcolors.ENDC)\n",
    "\n",
    "def print_section_name( section_name ):\n",
    "    print(bcolors.BOLD  + section_name + bcolors.ENDC)\n",
    "    \n",
    "def print_highlighted_sentence(sen, end =\"\\n\"):\n",
    "    sen = sen.replace(\"\\n\",\" \").replace(\"\\r\",\" \")\n",
    "    print(bcolors.BOLD + bcolors.WARNING + str(sen)[:150] + bcolors.ENDC, end=end, flush =True)\n",
    "\n",
    "def remove_none(a):\n",
    "    if a is None:\n",
    "        return \"\"\n",
    "    else:\n",
    "        return a\n",
    "\n",
    "def print_authors(authors):\n",
    "    author_list = []\n",
    "    for author in authors:\n",
    "        given_name = remove_none(author.get(\"GivenName\", \"\"))\n",
    "        family_name = remove_none(author.get(\"FamilyName\", \"\"))\n",
    "        author_list.append( given_name+\" \"+family_name)\n",
    "    print(\"   \".join(author_list))\n",
    "    \n",
    "def print_pagination_results(pagination_results):\n",
    "    for res in pagination_results:\n",
    "        print_title(res.get(\"Title\",\"\"))\n",
    "        if isinstance(res.get(\"PublicationDate\",{}),dict):\n",
    "            print_year(res.get(\"PublicationDate\",{}).get(\"Year\",\"\"))\n",
    "        if isinstance(res.get(\"Author\",[]),list) and len(res.get(\"Author\",[]))>0:\n",
    "            print_authors(res.get(\"Author\",[]))\n",
    "        if isinstance(res.get(\"relevant_sentences\",[]),list) and len(res.get(\"relevant_sentences\",[]))>0:\n",
    "            print()\n",
    "            print(\"...\".join(res.get(\"relevant_sentences\",[])))\n",
    "        if res.get(\"Content\",{}).get(\"Abstract\",\"\").strip() != \"\":\n",
    "            print( res.get(\"Content\",{}).get(\"Abstract\",\"\")  )\n",
    "            print(\"\\n\")\n",
    "        print()\n",
    "        \n",
    "def print_paper( paper_info, collection):\n",
    "    print_title(paper_info.get(\"Title\",\"\"))\n",
    "    print(\"source: \", collection)\n",
    "    if isinstance(paper_info.get(\"PublicationDate\",{}),dict):\n",
    "        print_year(paper_info.get(\"PublicationDate\",{}).get(\"Year\",\"\"))\n",
    "    print_authors(paper_info.get(\"Author\",[]))\n",
    "    print(\"\\n\")\n",
    "    \n",
    "    if \"Content\" in paper_info:\n",
    "        for tag in [\"Abstract_Parsed\",\"Fullbody_Parsed\"]:\n",
    "            if tag not in paper_info[\"Content\"]:\n",
    "                continue\n",
    "            for section in paper_info[\"Content\"][tag]:\n",
    "                print_section_name( section.get(\"section_title\",\"\") )\n",
    "                print(\"\\n\")\n",
    "                for para in section.get(\"section_text\",[]):\n",
    "                    for sen in para.get(\"paragraph_text\",[]):\n",
    "                        sim = sen.get(\"sentence_similarity\",0.0)\n",
    "                        text = sen.get(\"sentence_text\",\"\")\n",
    "                        if sim >0:\n",
    "                            print_highlighted_sentence(text, end = \" \")\n",
    "                        else:\n",
    "                            print(text, end=\" \", flush = True)\n",
    "                print(\"\\n\")\n",
    "                \n",
    "def color_sen(sen):\n",
    "    sen_text = sen[\"sentence_text\"]\n",
    "    cite_spans = sen[\"cite_spans\"]\n",
    "    colored_text = \"\"\n",
    "    current_pos = 0\n",
    "    for cite_span in cite_spans:\n",
    "        start, end = int(cite_span[\"start\"]), int(cite_span[\"end\"])\n",
    "        colored_text += sen_text[current_pos:start]+colored(sen_text[start:end],\"blue\")\n",
    "        current_pos = end\n",
    "    colored_text += sen_text[current_pos:]\n",
    "    return colored_text\n",
    "\n",
    "def print_para( para ):\n",
    "    corlored_para = \"\"\n",
    "    for sen in para[\"paragraph_text\"]:\n",
    "        corlored_para += color_sen(sen) + \" \"\n",
    "    print(corlored_para)\n",
    "\n",
    "def print_sec( sec ):\n",
    "    print(bcolors.BOLD+ sec[\"section_title\"] +bcolors.ENDC + \"\\n\")\n",
    "    for para in sec[\"section_text\"]:\n",
    "        print_para(para)\n",
    "        print()"
   ]
  },
  {
   "cell_type": "markdown",
   "id": "e020588f-751a-4e37-a20b-a9c07bf52527",
   "metadata": {},
   "source": [
    "## Microservice-Based Architecture"
   ]
  },
  {
   "cell_type": "markdown",
   "id": "85550484-26d1-49aa-a07f-ef0ec08006aa",
   "metadata": {},
   "source": [
    "[![microservice architecture](images/architecture.png)](https://aclanthology.org/2023.acl-demo.22/)"
   ]
  },
  {
   "cell_type": "markdown",
   "id": "af3d15ff-e1b4-471f-935e-878b383168f9",
   "metadata": {},
   "source": [
    "## Address of API Gateway "
   ]
  },
  {
   "cell_type": "markdown",
   "id": "b0e491c0-98c9-4e4f-9b93-66b935c567b7",
   "metadata": {},
   "source": [
    "As shown in the architecture, once the backend service has been started, the API gateway is used the bridge the connection between frontend and backend. Therefore, from the perspective of frontend (or API user), we only need to know the address of the API gateway.\n",
    "\n",
    "Suppose that in the file [final_api_gateway/docker-compose.yaml](final_api_gateway/docker-compose.yaml), the port mapping rule looks like:\n",
    "\n",
    "        ports:\n",
    "            - 8060:8060    # Host PORT : container PORT\n",
    "this means it maps the host machine's 8060 port to the port 8060 of API gateway's docker container. In this case, when we can to send request to the API gateway, the base address (without endpoint name) is:\n",
    "\n",
    "        http://localhost:8060\n",
    "\n",
    "where localhost refers to the hostmachine. We can further use [ngrok](https://ngrok.com/) to map the port 8060 to www, to make the API gateway accessible from anywhere in the world. Then the API address will be changed to \n",
    "\n",
    "        https://xxxxx.ngrok.io (no port number is needed)\n",
    "        \n",
    "In this example, we run the backend in our local machine, so we set (suppose the host port is 8060):"
   ]
  },
  {
   "cell_type": "code",
   "execution_count": 4,
   "id": "1055728d-e5f0-4e00-a4ca-6354c84825ac",
   "metadata": {
    "tags": []
   },
   "outputs": [],
   "source": [
    "api_gateway_address = \"http://localhost:8060\" "
   ]
  },
  {
   "cell_type": "markdown",
   "id": "ca18c4ec-309a-45df-a219-478bfb78c999",
   "metadata": {},
   "source": [
    "## Microservice: Document search"
   ]
  },
  {
   "cell_type": "markdown",
   "id": "41313ef5-63c1-40f1-80be-a9ffd1dc123f",
   "metadata": {},
   "source": [
    "### Service address\n",
    "Service address refers to the address to the corresponding endpoint: api gateway's base address + endpoint name"
   ]
  },
  {
   "cell_type": "code",
   "execution_count": 5,
   "id": "9f3897d1-c640-4a6d-9e3f-9cf57344cdcf",
   "metadata": {
    "tags": []
   },
   "outputs": [
    {
     "data": {
      "text/plain": [
       "'http://localhost:8060/ml-api/doc-search/v1.0'"
      ]
     },
     "execution_count": 5,
     "metadata": {},
     "output_type": "execute_result"
    }
   ],
   "source": [
    "api_gateway_address+\"/ml-api/doc-search/v1.0\""
   ]
  },
  {
   "cell_type": "markdown",
   "id": "ebd4bc29-524f-4fa2-905c-9f5e3926c26a",
   "metadata": {},
   "source": [
    "### Description\n",
    "1. **Function:** perform document search under different scenarios, including: <br>\n",
    "    a) semantic search:  selected content (text or paper) as ranking source & keywords filtering <br>\n",
    "    b) search from my library <br>\n",
    "    c) generic search: given the title of a paper, find this paper from our database\n",
    "    \n",
    "2. **Input:** a request dictionary that contains the following key-value pairs: <br>\n",
    "    a) \"**ranking_variable**\": <br> \n",
    "    &ensp;&ensp; optional, default: \"\"(empty string) <br>\n",
    "    &ensp;&ensp; texts that users type in the \"ranking source text\" box, or texts that are selected from the manuscript as the query. If \"ranking_variable\" is provided, then the value of \"ranking_variable\" will be used as final ranking source.<br>\n",
    "    b) \"**ranking_collection**\": <br>\n",
    "    &ensp;&ensp; optional, default: \"\" <br>\n",
    "    &ensp;&ensp; If users want to find relevant papers of a certain query paper, then the collection name of that query paper must be provided. <br>\n",
    "    c) \"**ranking_id_field**\": <br>\n",
    "    &ensp;&ensp; optional, default: \"\" <br>\n",
    "    &ensp;&ensp; If users want to find relevant papers of a certain query paper, then the paper id field of that query paper must be provided. E.g. the paper id type can be \"id_int\", which is most commonly used. It is also possible to use the \"DOI\" field as paper id. <br>\n",
    "    d) \"**ranking_id_value**\": <br>\n",
    "    &ensp;&ensp; optional, default: \"\" <br>\n",
    "    &ensp;&ensp; If users want to find relevant papers of a certain query paper, then the paper id value of that query paper must be provided.<br>\n",
    "    e) \"**ranking_id_type**\": <br>\n",
    "    &ensp;&ensp; optional, default: \"\", not necessary<br>\n",
    "    f) \"**keywords**\": <br>\n",
    "    &ensp;&ensp; optional, default: \"\"<br>\n",
    "    &ensp;&ensp; This is used for keyword boolean filter. If all the keys above are not provided and only keywords provided, then use keywords alse as ranking source. When users want to perform a generic search, e.g. **search for a paper given title**, then simply use the title as \"keywords\". In this case, the ranking variable can either be the abstract (if available) or \"\" (empty string).<br>\n",
    "    g) \"**paper_list**\": <br>\n",
    "    &ensp;&ensp; optional, default: \"\"<br>\n",
    "    &ensp;&ensp; This is used to specify a range of papers within wich users search for relevant papers. For example, if users want to search for relevant papers from \"My Libraray\", then set the value of \"paper_list\" as the list of the ids of the papers in users' libraray, with the following format:<br> [ { \"collection\":\"PMCOA\", \"id_field\": \"id_int\", \"id_value\": 123  }, ... ]<br>\n",
    "    h) \"**username**\": <br>\n",
    "    &ensp;&ensp; optional, default: \"\"<br>\n",
    "    i) \"**nResults**\": <br> \n",
    "    &ensp;&ensp; The maximum number of returned paper ids <br>\n",
    "    &ensp;&ensp; optional, default: 100<br>\n",
    "    Max number of results to be returned. <br>\n",
    "3. **Output:** A results dictionary with the following format: <br>\n",
    "{ \"query_id\": \"fa27a7a6-0026-45f9-9c81-e47cf4ea5c57\", <br>\n",
    "  \"response\": [ {'collection': 'pubmed', 'id_field': 'id_int', 'id_type': 'int', 'id_value': 123}, ...  ], <br>\n",
    "  'search_stats': {'DurationTotalSearch': 87, 'nMatchingDocuments': 1000000}<br>\n",
    "}<br>\n",
    "Here \"query_id\" is a randomly generated unique id string that is associated with current search behavior. This can be used to achieve the click feedback function. For example, when users search for something, after they get the searched results and they click a certain paper, then the frontend can return current \"query_id\" and the id information of the clicked paper back to the click-feedback api (described below).\n"
   ]
  },
  {
   "cell_type": "markdown",
   "id": "3a7b9a61-7498-48c7-b785-d86103c1c343",
   "metadata": {},
   "source": [
    "### Example"
   ]
  },
  {
   "cell_type": "code",
   "execution_count": 11,
   "id": "516e216d-1db8-4489-b948-e32b0a281289",
   "metadata": {
    "tags": []
   },
   "outputs": [
    {
     "ename": "JSONDecodeError",
     "evalue": "[Errno Expecting value] <!doctype html>\n<html lang=en>\n<title>400 Bad Request</title>\n<h1>Bad Request</h1>\n<p>The browser (or proxy) sent a request that this server could not understand.</p>\n: 0",
     "output_type": "error",
     "traceback": [
      "\u001b[0;31m---------------------------------------------------------------------------\u001b[0m",
      "\u001b[0;31mJSONDecodeError\u001b[0m                           Traceback (most recent call last)",
      "\u001b[0;32m~/anaconda3/envs/scieditor/lib/python3.7/site-packages/requests/models.py\u001b[0m in \u001b[0;36mjson\u001b[0;34m(self, **kwargs)\u001b[0m\n\u001b[1;32m    909\u001b[0m         \u001b[0;32mtry\u001b[0m\u001b[0;34m:\u001b[0m\u001b[0;34m\u001b[0m\u001b[0;34m\u001b[0m\u001b[0m\n\u001b[0;32m--> 910\u001b[0;31m             \u001b[0;32mreturn\u001b[0m \u001b[0mcomplexjson\u001b[0m\u001b[0;34m.\u001b[0m\u001b[0mloads\u001b[0m\u001b[0;34m(\u001b[0m\u001b[0mself\u001b[0m\u001b[0;34m.\u001b[0m\u001b[0mtext\u001b[0m\u001b[0;34m,\u001b[0m \u001b[0;34m**\u001b[0m\u001b[0mkwargs\u001b[0m\u001b[0;34m)\u001b[0m\u001b[0;34m\u001b[0m\u001b[0;34m\u001b[0m\u001b[0m\n\u001b[0m\u001b[1;32m    911\u001b[0m         \u001b[0;32mexcept\u001b[0m \u001b[0mJSONDecodeError\u001b[0m \u001b[0;32mas\u001b[0m \u001b[0me\u001b[0m\u001b[0;34m:\u001b[0m\u001b[0;34m\u001b[0m\u001b[0;34m\u001b[0m\u001b[0m\n",
      "\u001b[0;32m~/anaconda3/envs/scieditor/lib/python3.7/json/__init__.py\u001b[0m in \u001b[0;36mloads\u001b[0;34m(s, encoding, cls, object_hook, parse_float, parse_int, parse_constant, object_pairs_hook, **kw)\u001b[0m\n\u001b[1;32m    347\u001b[0m             parse_constant is None and object_pairs_hook is None and not kw):\n\u001b[0;32m--> 348\u001b[0;31m         \u001b[0;32mreturn\u001b[0m \u001b[0m_default_decoder\u001b[0m\u001b[0;34m.\u001b[0m\u001b[0mdecode\u001b[0m\u001b[0;34m(\u001b[0m\u001b[0ms\u001b[0m\u001b[0;34m)\u001b[0m\u001b[0;34m\u001b[0m\u001b[0;34m\u001b[0m\u001b[0m\n\u001b[0m\u001b[1;32m    349\u001b[0m     \u001b[0;32mif\u001b[0m \u001b[0mcls\u001b[0m \u001b[0;32mis\u001b[0m \u001b[0;32mNone\u001b[0m\u001b[0;34m:\u001b[0m\u001b[0;34m\u001b[0m\u001b[0;34m\u001b[0m\u001b[0m\n",
      "\u001b[0;32m~/anaconda3/envs/scieditor/lib/python3.7/json/decoder.py\u001b[0m in \u001b[0;36mdecode\u001b[0;34m(self, s, _w)\u001b[0m\n\u001b[1;32m    336\u001b[0m         \"\"\"\n\u001b[0;32m--> 337\u001b[0;31m         \u001b[0mobj\u001b[0m\u001b[0;34m,\u001b[0m \u001b[0mend\u001b[0m \u001b[0;34m=\u001b[0m \u001b[0mself\u001b[0m\u001b[0;34m.\u001b[0m\u001b[0mraw_decode\u001b[0m\u001b[0;34m(\u001b[0m\u001b[0ms\u001b[0m\u001b[0;34m,\u001b[0m \u001b[0midx\u001b[0m\u001b[0;34m=\u001b[0m\u001b[0m_w\u001b[0m\u001b[0;34m(\u001b[0m\u001b[0ms\u001b[0m\u001b[0;34m,\u001b[0m \u001b[0;36m0\u001b[0m\u001b[0;34m)\u001b[0m\u001b[0;34m.\u001b[0m\u001b[0mend\u001b[0m\u001b[0;34m(\u001b[0m\u001b[0;34m)\u001b[0m\u001b[0;34m)\u001b[0m\u001b[0;34m\u001b[0m\u001b[0;34m\u001b[0m\u001b[0m\n\u001b[0m\u001b[1;32m    338\u001b[0m         \u001b[0mend\u001b[0m \u001b[0;34m=\u001b[0m \u001b[0m_w\u001b[0m\u001b[0;34m(\u001b[0m\u001b[0ms\u001b[0m\u001b[0;34m,\u001b[0m \u001b[0mend\u001b[0m\u001b[0;34m)\u001b[0m\u001b[0;34m.\u001b[0m\u001b[0mend\u001b[0m\u001b[0;34m(\u001b[0m\u001b[0;34m)\u001b[0m\u001b[0;34m\u001b[0m\u001b[0;34m\u001b[0m\u001b[0m\n",
      "\u001b[0;32m~/anaconda3/envs/scieditor/lib/python3.7/json/decoder.py\u001b[0m in \u001b[0;36mraw_decode\u001b[0;34m(self, s, idx)\u001b[0m\n\u001b[1;32m    354\u001b[0m         \u001b[0;32mexcept\u001b[0m \u001b[0mStopIteration\u001b[0m \u001b[0;32mas\u001b[0m \u001b[0merr\u001b[0m\u001b[0;34m:\u001b[0m\u001b[0;34m\u001b[0m\u001b[0;34m\u001b[0m\u001b[0m\n\u001b[0;32m--> 355\u001b[0;31m             \u001b[0;32mraise\u001b[0m \u001b[0mJSONDecodeError\u001b[0m\u001b[0;34m(\u001b[0m\u001b[0;34m\"Expecting value\"\u001b[0m\u001b[0;34m,\u001b[0m \u001b[0ms\u001b[0m\u001b[0;34m,\u001b[0m \u001b[0merr\u001b[0m\u001b[0;34m.\u001b[0m\u001b[0mvalue\u001b[0m\u001b[0;34m)\u001b[0m \u001b[0;32mfrom\u001b[0m \u001b[0;32mNone\u001b[0m\u001b[0;34m\u001b[0m\u001b[0;34m\u001b[0m\u001b[0m\n\u001b[0m\u001b[1;32m    356\u001b[0m         \u001b[0;32mreturn\u001b[0m \u001b[0mobj\u001b[0m\u001b[0;34m,\u001b[0m \u001b[0mend\u001b[0m\u001b[0;34m\u001b[0m\u001b[0;34m\u001b[0m\u001b[0m\n",
      "\u001b[0;31mJSONDecodeError\u001b[0m: Expecting value: line 1 column 1 (char 0)",
      "\nDuring handling of the above exception, another exception occurred:\n",
      "\u001b[0;31mJSONDecodeError\u001b[0m                           Traceback (most recent call last)",
      "\u001b[0;32m/tmp/ipykernel_2116499/1365860442.py\u001b[0m in \u001b[0;36m<module>\u001b[0;34m\u001b[0m\n\u001b[1;32m      7\u001b[0m output = requests.post( api_gateway_address+\"/ml-api/doc-search/v1.0\", \n\u001b[1;32m      8\u001b[0m                                       \u001b[0mdata\u001b[0m \u001b[0;34m=\u001b[0m \u001b[0mjson\u001b[0m\u001b[0;34m.\u001b[0m\u001b[0mdumps\u001b[0m\u001b[0;34m(\u001b[0m  \u001b[0mquery_data\u001b[0m \u001b[0;34m)\u001b[0m\u001b[0;34m,\u001b[0m\u001b[0;34m\u001b[0m\u001b[0;34m\u001b[0m\u001b[0m\n\u001b[0;32m----> 9\u001b[0;31m                                       headers = {\"Content-Type\": \"application/json\"} ).json()\n\u001b[0m\u001b[1;32m     10\u001b[0m \u001b[0;34m\u001b[0m\u001b[0m\n\u001b[1;32m     11\u001b[0m \u001b[0mprint\u001b[0m\u001b[0;34m(\u001b[0m\u001b[0moutput\u001b[0m\u001b[0;34m)\u001b[0m\u001b[0;34m\u001b[0m\u001b[0;34m\u001b[0m\u001b[0m\n",
      "\u001b[0;32m~/anaconda3/envs/scieditor/lib/python3.7/site-packages/requests/models.py\u001b[0m in \u001b[0;36mjson\u001b[0;34m(self, **kwargs)\u001b[0m\n\u001b[1;32m    915\u001b[0m                 \u001b[0;32mraise\u001b[0m \u001b[0mRequestsJSONDecodeError\u001b[0m\u001b[0;34m(\u001b[0m\u001b[0me\u001b[0m\u001b[0;34m.\u001b[0m\u001b[0mmessage\u001b[0m\u001b[0;34m)\u001b[0m\u001b[0;34m\u001b[0m\u001b[0;34m\u001b[0m\u001b[0m\n\u001b[1;32m    916\u001b[0m             \u001b[0;32melse\u001b[0m\u001b[0;34m:\u001b[0m\u001b[0;34m\u001b[0m\u001b[0;34m\u001b[0m\u001b[0m\n\u001b[0;32m--> 917\u001b[0;31m                 \u001b[0;32mraise\u001b[0m \u001b[0mRequestsJSONDecodeError\u001b[0m\u001b[0;34m(\u001b[0m\u001b[0me\u001b[0m\u001b[0;34m.\u001b[0m\u001b[0mmsg\u001b[0m\u001b[0;34m,\u001b[0m \u001b[0me\u001b[0m\u001b[0;34m.\u001b[0m\u001b[0mdoc\u001b[0m\u001b[0;34m,\u001b[0m \u001b[0me\u001b[0m\u001b[0;34m.\u001b[0m\u001b[0mpos\u001b[0m\u001b[0;34m)\u001b[0m\u001b[0;34m\u001b[0m\u001b[0;34m\u001b[0m\u001b[0m\n\u001b[0m\u001b[1;32m    918\u001b[0m \u001b[0;34m\u001b[0m\u001b[0m\n\u001b[1;32m    919\u001b[0m     \u001b[0;34m@\u001b[0m\u001b[0mproperty\u001b[0m\u001b[0;34m\u001b[0m\u001b[0;34m\u001b[0m\u001b[0m\n",
      "\u001b[0;31mJSONDecodeError\u001b[0m: [Errno Expecting value] <!doctype html>\n<html lang=en>\n<title>400 Bad Request</title>\n<h1>Bad Request</h1>\n<p>The browser (or proxy) sent a request that this server could not understand.</p>\n: 0"
     ]
    }
   ],
   "source": [
    "ranking_variable = \"recent progress in Covid-19\"\n",
    "keywords = \"covid\"\n",
    "query_data ={\n",
    "    \"ranking_variable\":ranking_variable,\n",
    "    \"keywords\":keywords,\n",
    "}\n",
    "output = requests.post( api_gateway_address+\"/ml-api/doc-search/v1.0\", \n",
    "                                      data = json.dumps(  query_data ), \n",
    "                                      headers = {\"Content-Type\": \"application/json\"} ).json()\n",
    "\n",
    "print(output)"
   ]
  },
  {
   "cell_type": "markdown",
   "id": "4c2c44ae-263e-4f6e-8d13-9340137b4c1c",
   "metadata": {},
   "source": [
    "## Microservice: Query Paper Database"
   ]
  },
  {
   "cell_type": "markdown",
   "id": "e49e6abd-0697-4f0c-8e98-4b115538b121",
   "metadata": {},
   "source": [
    "### Service address"
   ]
  },
  {
   "cell_type": "code",
   "execution_count": 7,
   "id": "e9dd5f01-2149-4d6b-bdaa-4d523a897a03",
   "metadata": {
    "tags": []
   },
   "outputs": [
    {
     "data": {
      "text/plain": [
       "'http://localhost:8060/ml-api/get-papers/v1.0'"
      ]
     },
     "execution_count": 7,
     "metadata": {},
     "output_type": "execute_result"
    }
   ],
   "source": [
    "api_gateway_address+\"/ml-api/get-papers/v1.0\""
   ]
  },
  {
   "cell_type": "markdown",
   "id": "7fe8c34e-bf98-4501-8006-010881c6d12e",
   "metadata": {},
   "source": [
    "### Description\n",
    "1. **Function:** Given a list of paper ids, return the content of those papers. The frontend can also specify which field (e.g abstract/title/date) to return. This API can be generally used to display a list papers. For example, **display a page of search results, or display all papers in my library**\n",
    "\n",
    "2. **Input:** <br>\n",
    "    a) \"**paper_list**\": <br>\n",
    "    &ensp;&ensp; **mandatory**<br>\n",
    "    &ensp;&ensp; a list of papers' ids to be displayed and highlighted. For example, a list of ids of the papers to be displayed on the first retrived page, or a list ids of the papers in \"My Library\" <br>\n",
    "    &ensp;&ensp; Format: [ { \"collection\":\"PMCOA\", \"id_field\": \"id_int\", \"id_value\": 123  }, ... ]<br>\n",
    "    b) \"**projection**\": <br>\n",
    "    &ensp;&ensp; optional, default: \"\" <br>\n",
    "    &ensp;&ensp; The frontend can specify which field to return, with a high level of flexibility. This parameter is similar to the pymongoDB api.  If \"projection\" is not specified, the by default the server will return the following fields: \"PublicationDate\", \"Author\", \"Title\", \"Venue\", \"id_int\", \"relevant_sentences\". If the frontend requires only title and abstract, then set the value of \"projection\" as the following:  { \"Title\":1, \"Content.Abstract\":1 } <br>\n",
    "3. **Output:** A list of papers, each of which has structured information confined by the \"projection\". <br>\n",
    "**Note: the output will always be a list, even if the value of the \"paper_list\" is a list of one element.**\n",
    "\n",
    "* If in the paper_list at a certain position a wrong paper id information provide, the service will return a placeholder {} for the corresponding paper, in order to make sure the returned paper list and the paper_list parameter have the same length\n",
    "\n",
    "* If the paper_list parameter is empty [], the service will just return an empty list []"
   ]
  },
  {
   "cell_type": "markdown",
   "id": "babf8940-4bc2-4460-9d39-0285a5acdce0",
   "metadata": {},
   "source": [
    "### Example\n",
    "Given a query, search for relevant papers and get the paper's content"
   ]
  },
  {
   "cell_type": "code",
   "execution_count": 8,
   "id": "a488be0b-27d2-4430-876b-ea4280ed352d",
   "metadata": {
    "tags": []
   },
   "outputs": [],
   "source": [
    "ranking_variable = \"recent progress in Covid-19\"\n",
    "keywords = \"covid\"\n",
    "query_data ={\n",
    "    \"ranking_variable\":ranking_variable,\n",
    "    \"keywords\":keywords,\n",
    "}\n",
    "searched_document_ids = requests.post( api_gateway_address+\"/ml-api/doc-search/v1.0\", \n",
    "                                      data = json.dumps(  query_data ), \n",
    "                                      headers = {\"Content-Type\": \"application/json\"} ).json()[\"response\"]\n",
    "\n",
    "search_document_contents = requests.post(  api_gateway_address+ \"/ml-api/get-papers/v1.0\", \n",
    "                                   data = json.dumps( {\n",
    "                                       \"paper_list\":searched_document_ids,\n",
    "                                   } ), \n",
    "                                   headers = {\"Content-Type\": \"application/json\"} ).json()[\"response\"]"
   ]
  },
  {
   "cell_type": "markdown",
   "id": "0043f403-28e7-405e-8c84-b6a0fe980ece",
   "metadata": {},
   "source": [
    "Let's have a look at the first 10 search results:"
   ]
  },
  {
   "cell_type": "code",
   "execution_count": 11,
   "id": "cb59c0cf-e039-4ed0-a6fc-566f710513be",
   "metadata": {
    "tags": []
   },
   "outputs": [
    {
     "name": "stdout",
     "output_type": "stream",
     "text": [
      "\u001b[1m\u001b[95mA systematic review of participatory approaches to empower health workers in low- and middle-income countries, highlighting Health Workers for Change \"Cite\u001b[0m\n",
      "\u001b[1m\u001b[94m2023\u001b[0m\n",
      "\n",
      "\u001b[1m\u001b[95mAcceptance of Public Health Measures During the COVID-19 Pandemic: A Cross-Sectional Study of the Swiss Population’s Beliefs, Attitudes, Trust, and Information-Seeking Behavior \"Cite\u001b[0m\n",
      "\u001b[1m\u001b[94m2023\u001b[0m\n",
      "Maddalena Fiordelli   Maddalena Fiordelli   Sara Rubinelli   Sara Rubinelli   Nicola Diviani   Nicola Diviani\n",
      "\n",
      "\u001b[1m\u001b[95mDoes COVID-19 vaccine exacerbate rotator cuff symptoms? A prospective study                                    \"Cite\u001b[0m\n",
      "\u001b[1m\u001b[94m2023\u001b[0m\n",
      "Servet İğrek   İbrahim Ulusoy   Aytek Hüseyin Çeliksöz\n",
      "\n",
      "\u001b[1m\u001b[95mA rapid cell-free expression and screening platform for antibody discovery                                     \"Cite\u001b[0m\n",
      "\u001b[1m\u001b[94m2023\u001b[0m\n",
      "Andrew C. Hunt   Andrew C. Hunt   Bastian Vögeli   Bastian Vögeli   Ahmed O. Hassan   Laura Guerrero   Laura Guerrero   Weston Kightlinger   Weston Kightlinger   Danielle J. Yoesep   Danielle J. Yoesep   Antje Krüger   Antje Krüger   Madison DeWinter   Madison DeWinter   Madison DeWinter   Michael S. Diamond   Michael S. Diamond   Michael S. Diamond   Michael S. Diamond   Ashty S. Karim   Ashty S. Karim   Michael C. Jewett   Michael C. Jewett   Michael C. Jewett   Michael C. Jewett   Michael C. Jewett\n",
      "\n",
      "\u001b[1m\u001b[95mAssociations of online religious participation during COVID-19 lockdown with subsequent health and well-being among UK adults \"Cite\u001b[0m\n",
      "\u001b[1m\u001b[94m2023\u001b[0m\n",
      "Koichiro Shiba   Koichiro Shiba   Richard G. Cowden   Natasha Gonzalez   Yusuf Ransome   Atsushi Nakagomi   Ying Chen   Matthew T. Lee   Tyler J. VanderWeele   Tyler J. VanderWeele   Tyler J. VanderWeele   Daisy Fancourt\n",
      "\n",
      "\u001b[1m\u001b[95mThe diversity of providers’ and consumers’ views of virtual versus inpatient care provision: a qualitative study \"Cite\u001b[0m\n",
      "\u001b[1m\u001b[94m2023\u001b[0m\n",
      "Robyn Clay-Williams   Peter Hibbert   Peter Hibbert   Ann Carrigan   Ann Carrigan   Natalie Roberts   Elizabeth Austin   Diana Fajardo Pulido   Isabelle Meulenbroeks   Hoa Mi Nguyen   Mitchell Sarkies   Sarah Hatem   Katherine Maka   Graeme Loy   Jeffrey Braithwaite\n",
      "\n",
      "\u001b[1m\u001b[95mUtilizing a Capture-Recapture Strategy to Accelerate Infectious Disease Surveillance                           \"Cite\u001b[0m\n",
      "\u001b[1m\u001b[94m2023\u001b[0m\n",
      "Lin Ge   Yuzi Zhang   Lance Waller   Robert Lyles\n",
      "\n",
      "\u001b[1m\u001b[95mWhat is the health status of girls and boys in the COVID-19 pandemic? Selected results of the KIDA study       \"Cite\u001b[0m\n",
      "\u001b[1m\u001b[94m2023\u001b[0m\n",
      "Julika Loss   Miriam Blume   Laura Neuperdt   Nadine Flerlage   Tim Weihrauch   Kristin Manz   Roma Thamm   Christina Poethko-Müller   Elvira Mauz   Petra Rattay   Jennifer Allen   Mira Tschorn   Mira Tschorn\n",
      "\n",
      "\u001b[1m\u001b[95mProlonged T-cell activation and long COVID symptoms independently associate with severe COVID-19 at 3 months   \"Cite\u001b[0m\n",
      "\u001b[1m\u001b[94m2023\u001b[0m\n",
      "Marianna Santopaolo   Michaela Gregorova   Fergus Hamilton   David Arnold   Anna Long   Aurora Lacey   Elizabeth Oliver   Alice Halliday   Holly Baum   Kristy Hamilton   Rachel Milligan   Olivia Pearce   Lea Knezevic   Begonia Morales Aza   Alice Milne   Emily Milodowski   Eben Jones   Rajeka Lazarus   Anu Goenka   Anu Goenka   Adam Finn   Adam Finn   Adam Finn   Nicholas Maskell   Andrew D Davidson   Kathleen Gillespie   Linda Wooldridge   Laura Rivino\n",
      "\n",
      "\u001b[1m\u001b[95mUsing technology to reduce critical deterioration (the DETECT study): a cost analysis of care costs at a tertiary children's hospital in the United Kingdom \"Cite\u001b[0m\n",
      "\u001b[1m\u001b[94m2023\u001b[0m\n",
      "Eduardo Costa   Eduardo Costa   Céu Mateus   Bernie Carter   Holly Saron   Chin-Kien Eyton-Chong   Fulya Mehta   Steven Lane   Sarah Siner   Jason Dean   Michael Barnes   Chris McNally   Caroline Lambert   Caroline Lambert   Bruce Hollingsworth   Enitan D. Carrol   Enitan D. Carrol   Gerri Sefton\n",
      "\n"
     ]
    }
   ],
   "source": [
    "print_pagination_results( search_document_contents[:10])"
   ]
  },
  {
   "cell_type": "markdown",
   "id": "6d562ef5-275d-40a5-9952-7e0ec738ab98",
   "metadata": {},
   "source": [
    "## Microservice: Extractive Summarization"
   ]
  },
  {
   "cell_type": "markdown",
   "id": "5c2da063-f47c-48fe-ba99-87b5e615735c",
   "metadata": {},
   "source": [
    "### Service address"
   ]
  },
  {
   "cell_type": "code",
   "execution_count": 12,
   "id": "4710ac41-671c-4ebb-8636-bd94bddbdfe7",
   "metadata": {
    "tags": []
   },
   "outputs": [
    {
     "data": {
      "text/plain": [
       "'http://localhost:8060/ml-api/extractive-summarize/v1.0'"
      ]
     },
     "execution_count": 12,
     "metadata": {},
     "output_type": "execute_result"
    }
   ],
   "source": [
    "api_gateway_address+\"/ml-api/extractive-summarize/v1.0\""
   ]
  },
  {
   "cell_type": "markdown",
   "id": "01c8a079-83c9-411a-b4f6-3db3a5016048",
   "metadata": {},
   "source": [
    "### Description\n",
    "\n",
    "1. **Function:** Given a document containing a list of sentences, return the highlights of it.\n",
    "\n",
    "\n",
    "2. **Input:** <br>\n",
    "    a) \"**sentence_list**\" : a list of sentences, e.g., we can convert a full scientific paper into a list of consecutive  sentences, and use it as the input\n",
    "    \n",
    "    \n",
    "3. **Output:** Extracted summary (highlights) of the given paper. It is a dictionary containing \n",
    "\n",
    "        \"summary\": extracted_sen,\n",
    "        \"sentence_position\":sen_pos"
   ]
  },
  {
   "cell_type": "markdown",
   "id": "2e579735-0e1a-4395-88dc-fc6e4267b696",
   "metadata": {},
   "source": [
    "### Example\n",
    "We can search for a paper, and get the extractive summary of it"
   ]
  },
  {
   "cell_type": "code",
   "execution_count": 13,
   "id": "be15ef6f-21c7-4e2f-9d69-ca8f7e0c1270",
   "metadata": {
    "tags": []
   },
   "outputs": [
    {
     "data": {
      "text/plain": [
       "{'summary': ['Abstract This systematic review assesses participatory approaches to motivating positive change among health workers in low- and middle-income countries (LMICs).',\n",
       "  'The mistreatment of clients at health centres has been extensively documented, causing stress among clients, health complications and even avoidance of health centres altogether.',\n",
       "  'Health workers, too, face challenges, including medicine shortages, task shifting, inadequate training and a lack of managerial support.',\n",
       "  'Solutions are urgently needed to realise global commitments to quality primary healthcare, country ownership and universal health coverage.',\n",
       "  'This review searched 1243 titles and abstracts, of which 32 were extracted for full text review using a published critical assessment tool.',\n",
       "  'Eight papers were retained for final review, all using a single methodology, ‘Health Workers for Change’ (HWFC).',\n",
       "  'Health workers acknowledged their negative behaviour towards clients, often as a way of coping with their own unmet needs.'],\n",
       " 'sentence_position': [0, 1, 2, 3, 4, 5, 8]}"
      ]
     },
     "execution_count": 13,
     "metadata": {},
     "output_type": "execute_result"
    }
   ],
   "source": [
    "ranking_variable = \"recent progress in Covid-19\"\n",
    "keywords = \"covid\"\n",
    "query_data ={\n",
    "    \"ranking_variable\":ranking_variable,\n",
    "    \"keywords\":keywords,\n",
    "}\n",
    "searched_document_ids = requests.post( api_gateway_address+\"/ml-api/doc-search/v1.0\", \n",
    "                                      data = json.dumps(  query_data ), \n",
    "                                      headers = {\"Content-Type\": \"application/json\"} ).json()[\"response\"]\n",
    "\n",
    "## We get the content of the first paper\n",
    "document_content = requests.post(  api_gateway_address+ \"/ml-api/get-papers/v1.0\", \n",
    "                                   data = json.dumps( {\n",
    "                                       \"paper_list\":searched_document_ids,\n",
    "                                   } ), \n",
    "                                   headers = {\"Content-Type\": \"application/json\"} ).json()[\"response\"][0]\n",
    "\n",
    "## we need to convert the paper's full text into a list of sentences\n",
    "sentences = []\n",
    "for sec in document_content[\"Content\"][\"Abstract_Parsed\"] + document_content[\"Content\"][\"Fullbody_Parsed\"]:\n",
    "    for para in sec[\"section_text\"]:\n",
    "        for sen in para[\"paragraph_text\"]:\n",
    "            sentences.append(sen[\"sentence_text\"])\n",
    "\n",
    "## summarize it!\n",
    "summary = requests.post(  api_gateway_address+\"/ml-api/extractive-summarize/v1.0\", \n",
    "                                   data = json.dumps( {\n",
    "                                       \"sentence_list\":sentences,\n",
    "                                   } ), \n",
    "                                   headers = {\"Content-Type\": \"application/json\"} ).json()[\"response\"]\n",
    "summary"
   ]
  },
  {
   "cell_type": "markdown",
   "id": "ea6cb7d3-d8af-4667-b3e6-8e597d3762cc",
   "metadata": {},
   "source": [
    "## Microservice: Citation Generation"
   ]
  },
  {
   "cell_type": "markdown",
   "id": "509a8c5b-16be-4b45-8168-efaa6e45c898",
   "metadata": {},
   "source": [
    "### Service address"
   ]
  },
  {
   "cell_type": "code",
   "execution_count": 14,
   "id": "5888f1f8-0651-4fe3-aaae-63934daf615f",
   "metadata": {
    "tags": []
   },
   "outputs": [
    {
     "data": {
      "text/plain": [
       "'http://localhost:8060/ml-api/generate-citation/v1.0'"
      ]
     },
     "execution_count": 14,
     "metadata": {},
     "output_type": "execute_result"
    }
   ],
   "source": [
    "api_gateway_address + \"/ml-api/generate-citation/v1.0\""
   ]
  },
  {
   "cell_type": "markdown",
   "id": "c179e565-0bac-4f38-9782-b1384e02e87d",
   "metadata": {},
   "source": [
    "### Description\n",
    "\n",
    "1. **Function:** Batch-wise generation of citation sentences given a batch of local contexts, keywords, and papers to be cited. (The batchwise operation is used to handle concurrent requests, e.g. generating citation sentences for multiple papers simultaneously.)\n",
    "\n",
    "2. **Input:**<br>\n",
    "   a) \"**context_list**\" : a batch of local context texts (text in the manuscript  before the target citation sentence.)<br>\n",
    "   b) \"**keywords_list**\": a batch of keywords used to guide the generation<br>\n",
    "   c) \"**papers**\": a batch of papers' content to be cited\n",
    "   \n",
    "2. **Output:**<br>\n",
    "   a batch of generated citation sentences"
   ]
  },
  {
   "cell_type": "markdown",
   "id": "3a423a7d-e166-43f0-8da8-332bdbadd12d",
   "metadata": {},
   "source": [
    "### Example\n",
    "Given a query, we can search for relevant papers, and generated citation sentences for top 5 relevant papers."
   ]
  },
  {
   "cell_type": "code",
   "execution_count": 16,
   "id": "f2034b61-f51b-48b0-a176-635ba61770c5",
   "metadata": {
    "tags": []
   },
   "outputs": [
    {
     "data": {
      "text/plain": [
       "['However, the treatment of Covid-19 has been largely based on a lack of knowledge, skills, and experience [ #CIT ].',\n",
       " 'However, there is still a lack of data on the effects of Covid-19 vaccination on shoulder injury [ #CIT ].',\n",
       " 'IL-5 is a well-known anti-inflammatory cytokine that plays an important role in the treatment of COVID-19 [ #CIT ].',\n",
       " 'For example, a large reservoir-based continuous positive airway pressure (CPAP) has been developed for the treatment of COVID-19 [ #CIT ].',\n",
       " 'For example, the treatment of Covid-19 has been mainly based on the use of a variety of drugs [ #CIT ].']"
      ]
     },
     "execution_count": 16,
     "metadata": {},
     "output_type": "execute_result"
    }
   ],
   "source": [
    "ranking_variable = \"There have been many recent advances in the treatment of Covid-19.\"\n",
    "keywords = \"Covid\"\n",
    "query_data ={\n",
    "    \"ranking_variable\":ranking_variable,\n",
    "    \"keywords\":keywords,\n",
    "}\n",
    "searched_document_ids = requests.post( api_gateway_address+\"/ml-api/doc-search/v1.0\", \n",
    "                                      data = json.dumps(  query_data ), \n",
    "                                      headers = {\"Content-Type\": \"application/json\"} ).json()[\"response\"]\n",
    "\n",
    "## We get the content of the top 5 paper\n",
    "document_contents = requests.post(  api_gateway_address+ \"/ml-api/get-papers/v1.0\", \n",
    "                                   data = json.dumps( {\n",
    "                                       \"paper_list\":searched_document_ids[:5],\n",
    "                                   } ), \n",
    "                                   headers = {\"Content-Type\": \"application/json\"} ).json()[\"response\"]\n",
    "\n",
    "## Generate citation sentences:\n",
    "citation_sentences = requests.post(  api_gateway_address+ \"/ml-api/generate-citation/v1.0\",\n",
    "                                   data = json.dumps( {\n",
    "                                       ## we use the ranking variable also as context, as an example\n",
    "                                       \"context_list\":[ranking_variable for _ in range(len(document_contents))],\n",
    "                                       ## we use the ranking keywords also as the keywords to guide generation, but this can be changed to other keywords\n",
    "                                       \"keywords_list\":[keywords for _ in range(len(document_contents))],\n",
    "                                       \"papers\":document_contents\n",
    "                                   } ), \n",
    "                                   headers = {\"Content-Type\": \"application/json\"} ).json()[\"response\"]\n",
    "\n",
    "\n",
    "citation_sentences"
   ]
  },
  {
   "cell_type": "markdown",
   "id": "c0180164-1cdd-445f-aaa6-6d0312bcbd84",
   "metadata": {},
   "source": [
    "## Microservice: Citation Formating"
   ]
  },
  {
   "cell_type": "markdown",
   "id": "a988b249-d834-43be-8bbc-0ca127e81ec7",
   "metadata": {},
   "source": [
    "### Service address"
   ]
  },
  {
   "cell_type": "code",
   "execution_count": 17,
   "id": "7253ab96-fa88-4f93-8bbd-74f51d8df7b6",
   "metadata": {
    "tags": []
   },
   "outputs": [
    {
     "data": {
      "text/plain": [
       "'http://localhost:8060/ml-api/citation-formatting-service/v1.0'"
      ]
     },
     "execution_count": 17,
     "metadata": {},
     "output_type": "execute_result"
    }
   ],
   "source": [
    "api_gateway_address + \"/ml-api/citation-formatting-service/v1.0\""
   ]
  },
  {
   "cell_type": "markdown",
   "id": "1b65c0b7-3361-4df6-978b-169136278b3b",
   "metadata": {},
   "source": [
    "### Description\n",
    "1. **Function:** Given a list of paper ids, return the formatted citation information (e.g. in bibtex or mla format) of the input papers\n",
    "\n",
    "2. **Input:** <br>\n",
    "    a) \"**paper_list**\": <br>\n",
    "    &ensp;&ensp; **mandatory**<br>\n",
    "    &ensp;&ensp; a list of papers' ids:\n",
    "    &ensp;&ensp; Format: [ { \"collection\":\"PMCOA\", \"id_field\": \"id_int\", \"id_value\": 123  }, ... ]<br>\n",
    "    (NOTE: This has to be a list even if there is only one paper)\n",
    "    \n",
    "    b) \"**username**\": same as doc-serach api <br>\n",
    "3. **Output:** A list of papers' citation entries, each citation entry is a dictionary that contains two keys \"bibtex\" and \"mla\". The values of these two keys represent two different format of the citation information <br>"
   ]
  },
  {
   "cell_type": "markdown",
   "id": "0b9c5e1c-5a9d-4b56-a934-8a1b5dfcf048",
   "metadata": {},
   "source": [
    "### Example"
   ]
  },
  {
   "cell_type": "code",
   "execution_count": 18,
   "id": "dceec14b-2182-4dfe-995d-f3161ca0fef0",
   "metadata": {
    "tags": []
   },
   "outputs": [
    {
     "data": {
      "text/plain": [
       "{'response': [{'bibtex': '@article{2022, paperIDInfo={collection:PMCOA, id_value:1, id_type:int}, title={“Bringing you the Best”: John Player &amp; Sons, Cricket, and the Politics of Tobacco Sport Sponsorship in Britain, 1969–1986}, volume={80}, ISSN={2666-7711}, url={http://dx.doi.org/10.1163/26667711-bja10022}, DOI={10.1163/26667711-bja10022}, number={1}, journal={European Journal for the History of Medicine and Health}, publisher={Brill}, author={O’Neill, Daniel and Greenwood, Anna}, year={2022}, month={Aug}, pages={152–184} }',\n",
       "   'mla': 'O’Neill, Daniel, and Anna Greenwood. “‘Bringing You the Best’: John Player &amp; Sons, Cricket, and the Politics of Tobacco Sport Sponsorship in Britain, 1969–1986.” European Journal for the History of Medicine and Health, vol. 80, no. 1, Aug. 2022, pp. 152–84. Crossref, https://doi.org/10.1163/26667711-bja10022.'},\n",
       "  {'bibtex': '@article{2022, paperIDInfo={collection:PMCOA, id_value:2, id_type:int}, title={Acetylcholine Boosts Dendritic NMDA Spikes in a CA3 Pyramidal Neuron Model}, volume={489}, ISSN={0306-4522}, url={http://dx.doi.org/10.1016/j.neuroscience.2021.11.014}, DOI={10.1016/j.neuroscience.2021.11.014}, journal={Neuroscience}, publisher={Elsevier BV}, author={Humphries, Rachel and Mellor, Jack R. and O’Donnell, Cian}, year={2022}, month={May}, pages={69–83} }',\n",
       "   'mla': 'Humphries, Rachel, et al. “Acetylcholine Boosts Dendritic NMDA Spikes in a CA3 Pyramidal Neuron Model.” Neuroscience, vol. 489, May 2022, pp. 69–83. Crossref, https://doi.org/10.1016/j.neuroscience.2021.11.014.'}]}"
      ]
     },
     "execution_count": 18,
     "metadata": {},
     "output_type": "execute_result"
    }
   ],
   "source": [
    "paper_ids = [ \n",
    "              {\"collection\":\"PMCOA\",\"id_field\":\"id_int\", \"id_value\":1},\n",
    "              {\"collection\":\"PMCOA\",\"id_field\":\"id_int\", \"id_value\":2},\n",
    "]\n",
    "\n",
    "requests.post( api_gateway_address +\"/ml-api/citation-formatting-service/v1.0\", \n",
    "                                      data = json.dumps( \n",
    "                                          {\n",
    "                                              \"paper_list\":paper_ids\n",
    "                                          }\n",
    "                                      ), \n",
    "                                      headers = {\"Content-Type\": \"application/json\"} ).json()"
   ]
  },
  {
   "cell_type": "markdown",
   "id": "4a3e44ed-2b5e-4513-803e-977910de6122",
   "metadata": {},
   "source": [
    "## Microservice: Title Generic Search"
   ]
  },
  {
   "cell_type": "markdown",
   "id": "046d52e3-824c-4709-8c1d-024cd6868c9c",
   "metadata": {},
   "source": [
    "### Service address"
   ]
  },
  {
   "cell_type": "code",
   "execution_count": 19,
   "id": "8203f31b-ac35-4157-b42c-0dc61c8a97ad",
   "metadata": {
    "tags": []
   },
   "outputs": [
    {
     "data": {
      "text/plain": [
       "'http://localhost:8060/ml-api/title-generic-search/v1.0'"
      ]
     },
     "execution_count": 19,
     "metadata": {},
     "output_type": "execute_result"
    }
   ],
   "source": [
    "api_gateway_address+\"/ml-api/title-generic-search/v1.0\""
   ]
  },
  {
   "cell_type": "markdown",
   "id": "adc82099-7f27-428e-b5aa-2751cdc11d39",
   "metadata": {},
   "source": [
    "### Description\n",
    "1. **Function:** Given a list of titles, find the corresponding papers from our database. \n",
    "\n",
    "2. **Input:** <br>\n",
    "    a) \"**titles**\":\n",
    "      1) \"titles\" can be a list of strings. In this case, we assume each string is the title of a paper;\n",
    "      2) \"titles\" can also be a list of dictionaries, and each dictionary contains the metadata (Title and Author) of a paper, among the metadata, the key \"Title\" is mandatory, while \"Author\" is not mandantory but recommended. For example: <br>\n",
    "      \n",
    "             [ {\"Title\":\"bird song ...\",\"Author\":[{\"GivenName\":\"Tom\", \"FamilyName\":\"Lee\"}]}, {\"Title\": \"machine learning\"} ] \n",
    "    \n",
    "    b) \"**projection**\": same as pagination api<br>\n",
    "    &ensp;&ensp; optional. Default: None   (return all the content of the found paper) <br>\n",
    "    \"projection\" specifies which field to return as usual. If \"projection\" is set to None, all the content of the found paper will be returned.\n",
    "\n",
    "3. **Output:** A list of papers, each of which has structured information confined by the \"projection\". If a paper is not found, then the value of the key \"found\" is False. If the paper is found, then \"found\"=True, and \"collection\",\"id_field\",\"id_type\" and \"id_value\" will be returned apart from the items defined by the projection  <br>\n",
    "     1) This API returns a list of papers, each paper is a dictionary.\n",
    "        Given a title/metadata, if we find the paper, we will return the id information (collection, id_field, id_type, id_value), and in the dictionary, the value of \"found\" will be True. Moreover, the paper's content will also be included in the returned results, determined by the \"projection\" given when calling the API.\n",
    "     2) If we do not find the paper, in the returned dictionary the value of \"found\" is False."
   ]
  },
  {
   "cell_type": "markdown",
   "id": "9f4d77b1-4b54-4738-bfb1-d3412d19245a",
   "metadata": {},
   "source": [
    "### Example"
   ]
  },
  {
   "cell_type": "code",
   "execution_count": 21,
   "id": "6c4806e6-3496-4158-a246-a8d365dbc412",
   "metadata": {
    "tags": []
   },
   "outputs": [
    {
     "data": {
      "text/plain": [
       "[{'Title': 'A rapid cell-free expression and screening platform for antibody discovery  ',\n",
       "  'Author': [],\n",
       "  'First_Author': '',\n",
       "  'found': True,\n",
       "  'collection': 'PMCOA',\n",
       "  'id_field': 'id_int',\n",
       "  'id_type': 'int',\n",
       "  'id_value': 251,\n",
       "  '_id': 'PMCOA_251'},\n",
       " {'Title': 'Adaptive GLCM sampling for transformer-based COVID-19 detection on CT ',\n",
       "  'Author': [{'GivenName': 'Jung', 'FamilyName': 'Okchul'}],\n",
       "  'First_Author': 'Jung Okchul',\n",
       "  'found': False}]"
      ]
     },
     "execution_count": 21,
     "metadata": {},
     "output_type": "execute_result"
    }
   ],
   "source": [
    "query_data = {\n",
    "    \"titles\":[\n",
    "        ## Either is okay: 1) a title's string or 2) a dictionary with \"Title\" (and \"Author\") as keys.\n",
    "        \"A rapid cell-free expression and screening platform for antibody discovery  \",\n",
    "        {\"Title\":\"Adaptive GLCM sampling for transformer-based COVID-19 detection on CT \",\n",
    "         \"Author\": [{'GivenName': 'Jung', 'FamilyName': 'Okchul'}]\n",
    "        },\n",
    "    ],\n",
    "    \"projection\": {}\n",
    "}\n",
    "\n",
    "searched_papers = requests.post( api_gateway_address+\"/ml-api/title-generic-search/v1.0\", \n",
    "                                      data = json.dumps(  query_data ), \n",
    "                                      headers = {\"Content-Type\": \"application/json\"} ).json()[\"response\"]\n",
    "\n",
    "searched_papers"
   ]
  },
  {
   "cell_type": "code",
   "execution_count": null,
   "id": "aa3c8adc-8821-4b5d-8167-342d6549f193",
   "metadata": {},
   "outputs": [],
   "source": []
  }
 ],
 "metadata": {
  "kernelspec": {
   "display_name": "Python 3 (ipykernel)",
   "language": "python",
   "name": "python3"
  },
  "language_info": {
   "codemirror_mode": {
    "name": "ipython",
    "version": 3
   },
   "file_extension": ".py",
   "mimetype": "text/x-python",
   "name": "python",
   "nbconvert_exporter": "python",
   "pygments_lexer": "ipython3",
   "version": "3.7.13"
  }
 },
 "nbformat": 4,
 "nbformat_minor": 5
}
