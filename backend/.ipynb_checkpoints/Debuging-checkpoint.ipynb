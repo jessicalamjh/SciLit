{
 "cells": [
  {
   "cell_type": "code",
   "execution_count": 1,
   "id": "8df8ce68-50a4-4def-a58a-77a57c5f0384",
   "metadata": {},
   "outputs": [],
   "source": [
    "import requests, json\n",
    "import time"
   ]
  },
  {
   "cell_type": "code",
   "execution_count": null,
   "id": "52bac566-7449-4d3c-b1b4-b7b4926ff067",
   "metadata": {},
   "outputs": [],
   "source": []
  },
  {
   "cell_type": "code",
   "execution_count": null,
   "id": "67d2ff6c-f4de-4580-a471-2e0c7d29b7aa",
   "metadata": {},
   "outputs": [],
   "source": []
  },
  {
   "cell_type": "code",
   "execution_count": null,
   "id": "2f61d5d1-86e1-4c6e-8b75-1ddf92c282ec",
   "metadata": {},
   "outputs": [],
   "source": []
  },
  {
   "cell_type": "code",
   "execution_count": null,
   "id": "c8e98392-9a97-4290-b89d-d3aacf010077",
   "metadata": {},
   "outputs": [],
   "source": []
  },
  {
   "cell_type": "code",
   "execution_count": null,
   "id": "4a013fd5-12b4-4d2c-9af1-772bdaf0718c",
   "metadata": {},
   "outputs": [],
   "source": []
  },
  {
   "cell_type": "code",
   "execution_count": null,
   "id": "59a01754-1170-445d-90ef-dd8f13450b51",
   "metadata": {},
   "outputs": [],
   "source": []
  },
  {
   "cell_type": "code",
   "execution_count": null,
   "id": "17f39b07-2daa-4b7d-9793-c4d3bc74b189",
   "metadata": {},
   "outputs": [],
   "source": []
  },
  {
   "cell_type": "code",
   "execution_count": null,
   "id": "74b97dfd-68ff-4e89-954c-32e06f5c808a",
   "metadata": {},
   "outputs": [],
   "source": []
  },
  {
   "cell_type": "code",
   "execution_count": 2,
   "id": "e03faa41-64cd-4c5c-ab2e-8063f5d8923e",
   "metadata": {},
   "outputs": [],
   "source": [
    "import hashlib\n",
    "import base64\n",
    "def bytes_to_base64_string(f_bytes):\n",
    "    return base64.b64encode(f_bytes).decode('ASCII')\n",
    "\n",
    "def base64_string_to_bytes(base64_string):\n",
    "    return base64.b64decode(base64_string)"
   ]
  },
  {
   "cell_type": "code",
   "execution_count": 15,
   "id": "3e6cf942-da89-42fb-8476-56a334946f0f",
   "metadata": {},
   "outputs": [
    {
     "data": {
      "text/plain": [
       "'running'"
      ]
     },
     "execution_count": 15,
     "metadata": {},
     "output_type": "execute_result"
    }
   ],
   "source": [
    "requests.get( \"http://localhost:8025/status\").text"
   ]
  },
  {
   "cell_type": "code",
   "execution_count": 26,
   "id": "45b0e8fa-6351-40a7-b56a-69486004d376",
   "metadata": {},
   "outputs": [
    {
     "data": {
      "text/plain": [
       "'tested_post sofar so good!'"
      ]
     },
     "execution_count": 26,
     "metadata": {},
     "output_type": "execute_result"
    }
   ],
   "source": [
    "requests.post(\n",
    "    \"http://localhost:8025/test_post\",\n",
    "    data = json.dumps({\n",
    "        \"ranking_variable\":\"hahah\"\n",
    "    }),\n",
    "    headers = {\"Content-Type\":\"application/json\"}\n",
    ").text"
   ]
  },
  {
   "cell_type": "code",
   "execution_count": 38,
   "id": "67ccf2d1-2291-4fcc-a2ec-b45bfe47713f",
   "metadata": {},
   "outputs": [
    {
     "data": {
      "text/plain": [
       "100"
      ]
     },
     "execution_count": 38,
     "metadata": {},
     "output_type": "execute_result"
    }
   ],
   "source": [
    "prefetched_paper_ids = requests.post(\n",
    "    \"http://localhost:8021/document-search\",\n",
    "    data = json.dumps({\n",
    "    \"ranking_variable\":\"bird song\",\n",
    "    \"keywords\":\"\",\n",
    "    # \"paper_list\":\"\",\n",
    "    \"nResults\":100,\n",
    "    \"requires_reranking\":False,\n",
    "    \"requires_removing_duplicates\":False,\n",
    "    }),\n",
    "    headers = {\"Content-Type\":\"application/json\"}\n",
    ").json()[\"response\"]\n",
    "len(prefetched_paper_ids)"
   ]
  },
  {
   "cell_type": "code",
   "execution_count": 67,
   "id": "7f67c0e6-9bd9-4134-b8e4-c10bdd401895",
   "metadata": {},
   "outputs": [
    {
     "data": {
      "text/plain": [
       "100"
      ]
     },
     "execution_count": 67,
     "metadata": {},
     "output_type": "execute_result"
    }
   ],
   "source": [
    "prefetched_paper_ids = requests.post(\n",
    "    \"http://localhost:8025/document-search\",\n",
    "    data = json.dumps({\n",
    "    \"ranking_variable\":\"bird song\",\n",
    "    \"keywords\":\"\",\n",
    "    # \"paper_list\":\"\",\n",
    "    \"nResults\":100,\n",
    "    # \"requires_reranking\":False,\n",
    "    # \"requires_removing_duplicates\":False,\n",
    "    }),\n",
    "    headers = {\"Content-Type\":\"application/json\"}\n",
    ").json()[\"response\"]\n",
    "len(prefetched_paper_ids)"
   ]
  },
  {
   "cell_type": "code",
   "execution_count": 4,
   "id": "25e729f3-1484-4708-933d-e1d135a65e36",
   "metadata": {},
   "outputs": [],
   "source": [
    "# prefetched_paper_ids"
   ]
  },
  {
   "cell_type": "code",
   "execution_count": 36,
   "id": "3492545f-8d50-4c3e-bd2b-cbea38d29a96",
   "metadata": {},
   "outputs": [
    {
     "data": {
      "text/plain": [
       "0"
      ]
     },
     "execution_count": 36,
     "metadata": {},
     "output_type": "execute_result"
    }
   ],
   "source": [
    "prefetched_paper_ids = requests.post(\n",
    "    \"http://localhost:8060/document-search\",\n",
    "    data = json.dumps({\n",
    "    \"ranking_variable\":\"bird song\",\n",
    "    \"keywords\":\"\",\n",
    "    # \"paper_list\":\"\",\n",
    "    \"nResults\":100,\n",
    "    \"requires_reranking\":False,\n",
    "    \"requires_removing_duplicates\":False,\n",
    "    }),\n",
    "    headers = {\"Content-Type\":\"application/json\"}\n",
    ").json()[\"response\"]\n",
    "len(prefetched_paper_ids)"
   ]
  },
  {
   "cell_type": "code",
   "execution_count": null,
   "id": "e96fbf0f-8b09-4450-8494-3f5a1f90914a",
   "metadata": {},
   "outputs": [],
   "source": []
  },
  {
   "cell_type": "code",
   "execution_count": 48,
   "id": "552e2998-d4f8-494c-9446-d3f91846eb95",
   "metadata": {},
   "outputs": [
    {
     "data": {
      "text/plain": [
       "[{'Title': 'Achievement of 200,000 hours of operation at KEK 7-GeV electron 4-GeV positron injector linac',\n",
       "  '_id': 'arXiv_193'},\n",
       " {'Title': 'A Customized Text Privatiztion Mechanism with Differential Privacy',\n",
       "  '_id': 'arXiv_194'},\n",
       " {'Title': '', '_id': 'arXiv_195'}]"
      ]
     },
     "execution_count": 48,
     "metadata": {},
     "output_type": "execute_result"
    }
   ],
   "source": [
    "res = requests.post(\n",
    "    \"http://localhost:8023/get-papers\",\n",
    "    data = json.dumps({\n",
    "        \"paper_list\":[{'collection': 'arXiv',\n",
    "  'id_field': 'id_int',\n",
    "  'id_type': 'int',\n",
    "  'id_value': 193},\n",
    " {'collection': 'arXiv',\n",
    "  'id_field': 'id_int',\n",
    "  'id_type': 'int',\n",
    "  'id_value': 194},\n",
    " {'collection': 'arXiv',\n",
    "  'id_field': 'id_int',\n",
    "  'id_type': 'int',\n",
    "  'id_value': 195}],\n",
    "        \"projection\":{\"Title\":1}\n",
    "    }),\n",
    "    headers = {\"Content-Type\":\"application/json\"}\n",
    ").json()[\"response\"]\n",
    "res"
   ]
  },
  {
   "cell_type": "code",
   "execution_count": null,
   "id": "35034d0a-7441-4c21-bc1e-b6494723a494",
   "metadata": {},
   "outputs": [],
   "source": []
  },
  {
   "cell_type": "code",
   "execution_count": 50,
   "id": "e780e303-0c41-4b2e-8214-58d18a35551b",
   "metadata": {},
   "outputs": [
    {
     "data": {
      "text/plain": [
       "3"
      ]
     },
     "execution_count": 50,
     "metadata": {},
     "output_type": "execute_result"
    }
   ],
   "source": [
    "reranked_paper_ids = requests.post(\n",
    "    \"http://localhost:8024/document-rerank\",\n",
    "    data = json.dumps({\n",
    "        \"ranking_source\":\"Evidence for cumulative cultural evolution in bird song\",\n",
    "        \"keywords\":\"\",\n",
    "        \"paper_list\":[{'collection': 'arXiv',\n",
    "  'id_field': 'id_int',\n",
    "  'id_type': 'int',\n",
    "  'id_value': 193},\n",
    " {'collection': 'arXiv',\n",
    "  'id_field': 'id_int',\n",
    "  'id_type': 'int',\n",
    "  'id_value': 194},\n",
    " {'collection': 'arXiv',\n",
    "  'id_field': 'id_int',\n",
    "  'id_type': 'int',\n",
    "  'id_value': 195}]\n",
    "    }),\n",
    "    headers = {\"Content-Type\":\"application/json\"}\n",
    ").json()[\"response\"]\n",
    "len(reranked_paper_ids)"
   ]
  },
  {
   "cell_type": "code",
   "execution_count": 25,
   "id": "26b61f17-b2a6-4874-b331-040053c6aed3",
   "metadata": {},
   "outputs": [
    {
     "data": {
      "text/plain": [
       "[{'Title': 'Vision-and-Language Pretraining', '_id': 'arXiv_769'},\n",
       " {'Title': 'RECOMMENDATION SYSTEMS WITH DISTRIBUTION-FREE RELIABILITY GUARANTEES',\n",
       "  '_id': 'arXiv_606'},\n",
       " {'Title': 'Identifying the Context Shift between Test Benchmarks and Production Data',\n",
       "  '_id': 'arXiv_60'},\n",
       " {'Title': 'Less Is More: Fast Multivariate Time Series Forecasting with Light Sampling-oriented MLP Structures',\n",
       "  '_id': 'arXiv_187'},\n",
       " {'Title': 'T-DominO Exploring Multiple Criteria with Quality-Diversity and the Tournament Dominance Objective',\n",
       "  '_id': 'arXiv_438'},\n",
       " {'Title': 'The diurnal cycle and temporal trends of surface winds',\n",
       "  '_id': 'arXiv_104'},\n",
       " {'Title': 'Making sense of spoken plurals', '_id': 'arXiv_944'},\n",
       " {'Title': 'Relating the fundamental frequency of speech with EEG using a dilated convolutional network',\n",
       "  '_id': 'arXiv_960'},\n",
       " {'Title': 'DailyTalk: Spoken Dialogue Dataset for Conversational Text-to-Speech',\n",
       "  '_id': 'arXiv_64'},\n",
       " {'Title': 'Disentangling Random and Cyclic Effects in Time-Lapse Sequences',\n",
       "  '_id': 'arXiv_412'}]"
      ]
     },
     "execution_count": 25,
     "metadata": {},
     "output_type": "execute_result"
    }
   ],
   "source": [
    "res = requests.post(\n",
    "    \"http://localhost:8023/get-papers\",\n",
    "    data = json.dumps({\n",
    "        \"paper_list\":reranked_paper_ids[:10],\n",
    "        \"projection\":{\"Title\":1}\n",
    "    }),\n",
    "    headers = {\"Content-Type\":\"application/json\"}\n",
    ").json()[\"response\"]\n",
    "res"
   ]
  },
  {
   "cell_type": "code",
   "execution_count": 7,
   "id": "c8ac182f-dcdf-4153-87df-c7ea4bd30388",
   "metadata": {},
   "outputs": [],
   "source": [
    "# res = requests.post(\n",
    "#     \"http://localhost:8026/parse-pdf\",\n",
    "#     files = {\"pdf\":open(\"example.pdf\",\"rb\").read()}\n",
    "# ).json()[\"response\"]\n",
    "# res[\"title\"]"
   ]
  },
  {
   "cell_type": "code",
   "execution_count": 26,
   "id": "a12e8bdf-bb41-4396-8bc7-be990aba7a95",
   "metadata": {},
   "outputs": [],
   "source": [
    "res = requests.post(\n",
    "    \"http://localhost:8021/index-pdfs\",\n",
    "    data = json.dumps(\n",
    "        {\n",
    "            \"username\":\"James Bond\",\n",
    "            \"PDF_Base64_String_List\":[ bytes_to_base64_string( open(\"rstb.2020.0322.pdf\",\"rb\").read()) ],\n",
    "            \"update_index_immediately\":1\n",
    "        }\n",
    "    ),\n",
    "    headers = {\"Content-Type\":\"application/json\", \"Connection\":\"close\"}\n",
    "    \n",
    ").json()[\"response\"]"
   ]
  },
  {
   "cell_type": "code",
   "execution_count": 27,
   "id": "c4fc6ded-71cd-48a9-b020-da146922eefb",
   "metadata": {},
   "outputs": [
    {
     "data": {
      "text/plain": [
       "[{'collection': 'arXiv',\n",
       "  'id_field': 'id_int',\n",
       "  'id_type': 'int',\n",
       "  'id_value': 997}]"
      ]
     },
     "execution_count": 27,
     "metadata": {},
     "output_type": "execute_result"
    }
   ],
   "source": [
    "res"
   ]
  },
  {
   "cell_type": "code",
   "execution_count": null,
   "id": "ac1ff3a3-081e-4561-85d3-908a6467ce55",
   "metadata": {},
   "outputs": [],
   "source": [
    "        uploader = request_info.get(\"username\",\"\")\n",
    "        pdf_base64_string_list = request_info.get( \"PDF_Base64_String_List\", [] )\n",
    "        ## This can take a lot of time, so use it rarely!\n",
    "        update_index_immediately = request_info.get(\"update_index_immediately\",0)"
   ]
  },
  {
   "cell_type": "code",
   "execution_count": null,
   "id": "2822e600-4dbc-4676-904b-88925f4a89d6",
   "metadata": {},
   "outputs": [],
   "source": []
  },
  {
   "cell_type": "code",
   "execution_count": 12,
   "id": "5464ae5b-0b25-438a-88ba-445af3a3aa4e",
   "metadata": {},
   "outputs": [
    {
     "data": {
      "text/plain": [
       "'test'"
      ]
     },
     "execution_count": 12,
     "metadata": {},
     "output_type": "execute_result"
    }
   ],
   "source": [
    "    json_name = \"test.pdf\"\n",
    "    if json_name.endswith(\".pdf\"):\n",
    "        json_name = json_name[:-4]\n",
    "    json_name"
   ]
  },
  {
   "cell_type": "code",
   "execution_count": 63,
   "id": "6f0ed554-c7be-48e5-b3b6-97cc42b02088",
   "metadata": {},
   "outputs": [],
   "source": [
    "# for _ in range(10000):\n",
    "#     try:\n",
    "#         print(requests.get(\"http://localhost:8021/status\",).text)\n",
    "#     except:\n",
    "#         print(\"not running\")\n",
    "#     time.sleep(1)"
   ]
  },
  {
   "cell_type": "code",
   "execution_count": 75,
   "id": "41820733-1f31-437c-a53d-aee6cf1119fd",
   "metadata": {},
   "outputs": [
    {
     "data": {
      "text/plain": [
       "<Response [201]>"
      ]
     },
     "execution_count": 75,
     "metadata": {},
     "output_type": "execute_result"
    }
   ],
   "source": [
    "requests.post(\n",
    "    \"http://localhost:8020/build-index\",\n",
    "    data = json.dumps({}),\n",
    "    headers = {\"Content-Type\":\"application/json\"}\n",
    ")"
   ]
  },
  {
   "cell_type": "code",
   "execution_count": 92,
   "id": "2abbe218-d44d-41db-8a9f-d70c3c5a49ac",
   "metadata": {},
   "outputs": [],
   "source": [
    "aa = list()"
   ]
  },
  {
   "cell_type": "code",
   "execution_count": 93,
   "id": "a6169f1b-f533-4db2-b9e8-51e847681b2a",
   "metadata": {},
   "outputs": [
    {
     "data": {
      "text/plain": [
       "[]"
      ]
     },
     "execution_count": 93,
     "metadata": {},
     "output_type": "execute_result"
    }
   ],
   "source": [
    "aa"
   ]
  },
  {
   "cell_type": "code",
   "execution_count": null,
   "id": "aecab85f-5e6c-46a6-906a-d10af0f4e0aa",
   "metadata": {},
   "outputs": [],
   "source": []
  },
  {
   "cell_type": "code",
   "execution_count": 3,
   "id": "401c9853-197b-4249-b0ce-4638ab187565",
   "metadata": {},
   "outputs": [
    {
     "data": {
      "text/plain": [
       "<Response [201]>"
      ]
     },
     "execution_count": 3,
     "metadata": {},
     "output_type": "execute_result"
    }
   ],
   "source": [
    "requests.post(\n",
    "    \"http://localhost:8021/build-index\",\n",
    "    data = json.dumps({}),\n",
    "    headers = {\"Content-Type\":\"application/json\"}\n",
    ")"
   ]
  },
  {
   "cell_type": "code",
   "execution_count": null,
   "id": "39d0b256-4c82-4790-88b7-6f529eb7b406",
   "metadata": {},
   "outputs": [],
   "source": []
  },
  {
   "cell_type": "code",
   "execution_count": 90,
   "id": "c16b8f1d-193d-4b29-95b1-5276307feca6",
   "metadata": {},
   "outputs": [
    {
     "data": {
      "text/plain": [
       "2"
      ]
     },
     "execution_count": 90,
     "metadata": {},
     "output_type": "execute_result"
    }
   ],
   "source": [
    "res = requests.post(\n",
    "    \"http://localhost:8022/document-search\",\n",
    "    data = json.dumps({\n",
    "        \"ranking_source\":\"Tuberculosis presenting as immune thrombocytopenic purpura\",\n",
    "        \"paper_list\":[\n",
    " {'collection': 'ExampleCollection',\n",
    "  'id_field': 'id_int',\n",
    "  'id_type': 'int',\n",
    "  'id_value': 1850},\n",
    " {'collection': 'ExampleCollection',\n",
    "  'id_field': 'id_int',\n",
    "  'id_type': 'int',\n",
    "  'id_value': 2377},\n",
    " {'collection': 'ExampleCollection',\n",
    "  'id_field': 'id_int',\n",
    "  'id_type': 'int',\n",
    "  'id_value': 110003},\n",
    " {'collection': 'ExampleCollection',\n",
    "  'id_field': 'id_int',\n",
    "  'id_type': 'int',\n",
    "  'id_value': 2860008}\n",
    "        ]\n",
    "    }),\n",
    "    headers = {\"Content-Type\":\"application/json\"}\n",
    ").json()[\"response\"]\n",
    "len(res)"
   ]
  },
  {
   "cell_type": "code",
   "execution_count": 91,
   "id": "5fbb3585-2d1d-438d-9eb8-8358b0e3e976",
   "metadata": {},
   "outputs": [
    {
     "data": {
      "text/plain": [
       "[{'collection': 'ExampleCollection',\n",
       "  'id_field': 'id_int',\n",
       "  'id_type': 'int',\n",
       "  'id_value': 2377},\n",
       " {'collection': 'ExampleCollection',\n",
       "  'id_field': 'id_int',\n",
       "  'id_type': 'int',\n",
       "  'id_value': 1850}]"
      ]
     },
     "execution_count": 91,
     "metadata": {},
     "output_type": "execute_result"
    }
   ],
   "source": [
    "res"
   ]
  },
  {
   "cell_type": "code",
   "execution_count": 82,
   "id": "b8d423f1-1577-4b1f-9728-4668caca36bf",
   "metadata": {},
   "outputs": [
    {
     "data": {
      "text/plain": [
       "[{'collection': 'ExampleCollection',\n",
       "  'id_field': 'id_int',\n",
       "  'id_type': 'int',\n",
       "  'id_value': 676},\n",
       " {'collection': 'ExampleCollection',\n",
       "  'id_field': 'id_int',\n",
       "  'id_type': 'int',\n",
       "  'id_value': 2377},\n",
       " {'collection': 'ExampleCollection',\n",
       "  'id_field': 'id_int',\n",
       "  'id_type': 'int',\n",
       "  'id_value': 1103},\n",
       " {'collection': 'ExampleCollection',\n",
       "  'id_field': 'id_int',\n",
       "  'id_type': 'int',\n",
       "  'id_value': 2868},\n",
       " {'collection': 'ExampleCollection',\n",
       "  'id_field': 'id_int',\n",
       "  'id_type': 'int',\n",
       "  'id_value': 1948},\n",
       " {'collection': 'ExampleCollection',\n",
       "  'id_field': 'id_int',\n",
       "  'id_type': 'int',\n",
       "  'id_value': 2101},\n",
       " {'collection': 'ExampleCollection',\n",
       "  'id_field': 'id_int',\n",
       "  'id_type': 'int',\n",
       "  'id_value': 1291},\n",
       " {'collection': 'ExampleCollection',\n",
       "  'id_field': 'id_int',\n",
       "  'id_type': 'int',\n",
       "  'id_value': 2794},\n",
       " {'collection': 'ExampleCollection',\n",
       "  'id_field': 'id_int',\n",
       "  'id_type': 'int',\n",
       "  'id_value': 1549},\n",
       " {'collection': 'ExampleCollection',\n",
       "  'id_field': 'id_int',\n",
       "  'id_type': 'int',\n",
       "  'id_value': 1710}]"
      ]
     },
     "execution_count": 82,
     "metadata": {},
     "output_type": "execute_result"
    }
   ],
   "source": [
    "res[:10]"
   ]
  },
  {
   "cell_type": "code",
   "execution_count": 59,
   "id": "a52c50ab-82a9-45c3-acf5-c22b84e0e976",
   "metadata": {},
   "outputs": [
    {
     "data": {
      "text/plain": [
       "[{'Title': 'Tuberculosis presenting as immune thrombocytopenic purpura'},\n",
       " {'Title': 'First documented cure of a suggestive exogenous reinfection in polymyositis with same but multidrug resistant  M. tuberculosis'},\n",
       " {'Title': 'Effect of splenectomy on type-1/type-2 cytokine gene expression in a patient with adult idiopathic thrombocytopenic purpura (ITP)'},\n",
       " {'Title': 'A case of invasive aspergillosis in CGD patient successfully treated with Amphotericin B and INF-γ'},\n",
       " {'Title': 'Laboratory diagnosis and susceptibility profile of  Helicobacter pylori  infection in the Philippines'},\n",
       " {'Title': 'Resistin Response to Inflammation'},\n",
       " {'Title': 'Unanticipated Antigens: Translation Initiation at CUG with Leucine'},\n",
       " {'Title': 'Painful Horner Syndrome as a Harbinger of Silent Carotid Dissection'},\n",
       " {'Title': 'Evidence for preferential copackaging of Moloney murine leukemia virus genomic RNAs transcribed in the same chromosomal site'},\n",
       " {'Title': 'Long-distance transport of  L -ascorbic acid in potato'}]"
      ]
     },
     "execution_count": 59,
     "metadata": {},
     "output_type": "execute_result"
    }
   ],
   "source": [
    "res = requests.post(\n",
    "    \"http://localhost:8023/get-papers\",\n",
    "    data = json.dumps({\n",
    "        \"paper_list\":res[:10],\n",
    "        \"projection\":{\"Title\":1}\n",
    "    }),\n",
    "    headers = {\"Content-Type\":\"application/json\"}\n",
    ").json()[\"response\"]\n",
    "res"
   ]
  },
  {
   "cell_type": "code",
   "execution_count": 23,
   "id": "45e78703-0762-4721-bf6d-82ae6ee741bf",
   "metadata": {},
   "outputs": [
    {
     "data": {
      "text/plain": [
       "[{'Title': 'Causes of death and determinants of outcome in critically ill patients'}]"
      ]
     },
     "execution_count": 23,
     "metadata": {},
     "output_type": "execute_result"
    }
   ],
   "source": [
    "res = requests.post(\n",
    "    \"http://localhost:8023/get-papers\",\n",
    "    data = json.dumps({\n",
    "        \"paper_list\":[{\"collection\":\"ExampleCollection\",\n",
    "                        \"id_field\":\"id_int\",\n",
    "                       \n",
    "                       \"id_value\":20000\n",
    "                      }],\n",
    "        \"projection\":{\"Title\":1}\n",
    "    }),\n",
    "    headers = {\"Content-Type\":\"application/json\"}\n",
    ").json()[\"response\"]\n",
    "res"
   ]
  },
  {
   "cell_type": "code",
   "execution_count": 37,
   "id": "bc87882e-4760-4ce9-8b43-1edd95719e76",
   "metadata": {},
   "outputs": [],
   "source": [
    "import time\n",
    "import socket\n",
    "\n",
    "def wait_for_service( service_address ):\n",
    "    splits = service_address.split(\":\")\n",
    "    host = \":\".join( splits[:-1] )\n",
    "    port = int( splits[-1] )\n",
    "\n",
    "    while True:\n",
    "        try:\n",
    "            with socket.create_connection( (host, port) ):\n",
    "                break\n",
    "        except:\n",
    "            time.sleep(1)"
   ]
  },
  {
   "cell_type": "code",
   "execution_count": 44,
   "id": "aed62f84-4a5c-43ee-9e37-6b21b89025e0",
   "metadata": {},
   "outputs": [
    {
     "data": {
      "text/plain": [
       "<Response [404]>"
      ]
     },
     "execution_count": 44,
     "metadata": {},
     "output_type": "execute_result"
    }
   ],
   "source": [
    "requests.post(\n",
    "    \"http://localhost:8021/build-inx\",\n",
    "    data = json.dumps({}),\n",
    "    headers = {\"Content-Type\":\"application/json\"}\n",
    ")"
   ]
  },
  {
   "cell_type": "code",
   "execution_count": 45,
   "id": "ae4576f5-d60d-4645-90e6-462263bf3d84",
   "metadata": {},
   "outputs": [
    {
     "ename": "KeyboardInterrupt",
     "evalue": "",
     "output_type": "error",
     "traceback": [
      "\u001b[0;31m---------------------------------------------------------------------------\u001b[0m",
      "\u001b[0;31mgaierror\u001b[0m                                  Traceback (most recent call last)",
      "\u001b[0;32m/tmp/ipykernel_803972/3821647950.py\u001b[0m in \u001b[0;36mwait_for_service\u001b[0;34m(service_address)\u001b[0m\n\u001b[1;32m     10\u001b[0m         \u001b[0;32mtry\u001b[0m\u001b[0;34m:\u001b[0m\u001b[0;34m\u001b[0m\u001b[0;34m\u001b[0m\u001b[0m\n\u001b[0;32m---> 11\u001b[0;31m             \u001b[0;32mwith\u001b[0m \u001b[0msocket\u001b[0m\u001b[0;34m.\u001b[0m\u001b[0mcreate_connection\u001b[0m\u001b[0;34m(\u001b[0m \u001b[0;34m(\u001b[0m\u001b[0mhost\u001b[0m\u001b[0;34m,\u001b[0m \u001b[0mport\u001b[0m\u001b[0;34m)\u001b[0m \u001b[0;34m)\u001b[0m\u001b[0;34m:\u001b[0m\u001b[0;34m\u001b[0m\u001b[0;34m\u001b[0m\u001b[0m\n\u001b[0m\u001b[1;32m     12\u001b[0m                 \u001b[0;32mbreak\u001b[0m\u001b[0;34m\u001b[0m\u001b[0;34m\u001b[0m\u001b[0m\n",
      "\u001b[0;32m~/anaconda3/envs/scieditor/lib/python3.7/socket.py\u001b[0m in \u001b[0;36mcreate_connection\u001b[0;34m(address, timeout, source_address)\u001b[0m\n\u001b[1;32m    706\u001b[0m     \u001b[0merr\u001b[0m \u001b[0;34m=\u001b[0m \u001b[0;32mNone\u001b[0m\u001b[0;34m\u001b[0m\u001b[0;34m\u001b[0m\u001b[0m\n\u001b[0;32m--> 707\u001b[0;31m     \u001b[0;32mfor\u001b[0m \u001b[0mres\u001b[0m \u001b[0;32min\u001b[0m \u001b[0mgetaddrinfo\u001b[0m\u001b[0;34m(\u001b[0m\u001b[0mhost\u001b[0m\u001b[0;34m,\u001b[0m \u001b[0mport\u001b[0m\u001b[0;34m,\u001b[0m \u001b[0;36m0\u001b[0m\u001b[0;34m,\u001b[0m \u001b[0mSOCK_STREAM\u001b[0m\u001b[0;34m)\u001b[0m\u001b[0;34m:\u001b[0m\u001b[0;34m\u001b[0m\u001b[0;34m\u001b[0m\u001b[0m\n\u001b[0m\u001b[1;32m    708\u001b[0m         \u001b[0maf\u001b[0m\u001b[0;34m,\u001b[0m \u001b[0msocktype\u001b[0m\u001b[0;34m,\u001b[0m \u001b[0mproto\u001b[0m\u001b[0;34m,\u001b[0m \u001b[0mcanonname\u001b[0m\u001b[0;34m,\u001b[0m \u001b[0msa\u001b[0m \u001b[0;34m=\u001b[0m \u001b[0mres\u001b[0m\u001b[0;34m\u001b[0m\u001b[0;34m\u001b[0m\u001b[0m\n",
      "\u001b[0;32m~/anaconda3/envs/scieditor/lib/python3.7/socket.py\u001b[0m in \u001b[0;36mgetaddrinfo\u001b[0;34m(host, port, family, type, proto, flags)\u001b[0m\n\u001b[1;32m    751\u001b[0m     \u001b[0maddrlist\u001b[0m \u001b[0;34m=\u001b[0m \u001b[0;34m[\u001b[0m\u001b[0;34m]\u001b[0m\u001b[0;34m\u001b[0m\u001b[0;34m\u001b[0m\u001b[0m\n\u001b[0;32m--> 752\u001b[0;31m     \u001b[0;32mfor\u001b[0m \u001b[0mres\u001b[0m \u001b[0;32min\u001b[0m \u001b[0m_socket\u001b[0m\u001b[0;34m.\u001b[0m\u001b[0mgetaddrinfo\u001b[0m\u001b[0;34m(\u001b[0m\u001b[0mhost\u001b[0m\u001b[0;34m,\u001b[0m \u001b[0mport\u001b[0m\u001b[0;34m,\u001b[0m \u001b[0mfamily\u001b[0m\u001b[0;34m,\u001b[0m \u001b[0mtype\u001b[0m\u001b[0;34m,\u001b[0m \u001b[0mproto\u001b[0m\u001b[0;34m,\u001b[0m \u001b[0mflags\u001b[0m\u001b[0;34m)\u001b[0m\u001b[0;34m:\u001b[0m\u001b[0;34m\u001b[0m\u001b[0;34m\u001b[0m\u001b[0m\n\u001b[0m\u001b[1;32m    753\u001b[0m         \u001b[0maf\u001b[0m\u001b[0;34m,\u001b[0m \u001b[0msocktype\u001b[0m\u001b[0;34m,\u001b[0m \u001b[0mproto\u001b[0m\u001b[0;34m,\u001b[0m \u001b[0mcanonname\u001b[0m\u001b[0;34m,\u001b[0m \u001b[0msa\u001b[0m \u001b[0;34m=\u001b[0m \u001b[0mres\u001b[0m\u001b[0;34m\u001b[0m\u001b[0;34m\u001b[0m\u001b[0m\n",
      "\u001b[0;31mgaierror\u001b[0m: [Errno -2] Name or service not known",
      "\nDuring handling of the above exception, another exception occurred:\n",
      "\u001b[0;31mKeyboardInterrupt\u001b[0m                         Traceback (most recent call last)",
      "\u001b[0;32m/tmp/ipykernel_803972/2751408601.py\u001b[0m in \u001b[0;36m<module>\u001b[0;34m\u001b[0m\n\u001b[0;32m----> 1\u001b[0;31m \u001b[0mwait_for_service\u001b[0m\u001b[0;34m(\u001b[0m\u001b[0;34m\"http://localhost:8021\"\u001b[0m\u001b[0;34m)\u001b[0m\u001b[0;34m\u001b[0m\u001b[0;34m\u001b[0m\u001b[0m\n\u001b[0m",
      "\u001b[0;32m/tmp/ipykernel_803972/3821647950.py\u001b[0m in \u001b[0;36mwait_for_service\u001b[0;34m(service_address)\u001b[0m\n\u001b[1;32m     12\u001b[0m                 \u001b[0;32mbreak\u001b[0m\u001b[0;34m\u001b[0m\u001b[0;34m\u001b[0m\u001b[0m\n\u001b[1;32m     13\u001b[0m         \u001b[0;32mexcept\u001b[0m\u001b[0;34m:\u001b[0m\u001b[0;34m\u001b[0m\u001b[0;34m\u001b[0m\u001b[0m\n\u001b[0;32m---> 14\u001b[0;31m             \u001b[0mtime\u001b[0m\u001b[0;34m.\u001b[0m\u001b[0msleep\u001b[0m\u001b[0;34m(\u001b[0m\u001b[0;36m1\u001b[0m\u001b[0;34m)\u001b[0m\u001b[0;34m\u001b[0m\u001b[0;34m\u001b[0m\u001b[0m\n\u001b[0m",
      "\u001b[0;31mKeyboardInterrupt\u001b[0m: "
     ]
    }
   ],
   "source": [
    "wait_for_service(\"http://localhost:8021\")"
   ]
  },
  {
   "cell_type": "code",
   "execution_count": 47,
   "id": "22fb5467-1792-467d-b8c3-349326d4bd3b",
   "metadata": {},
   "outputs": [
    {
     "name": "stdout",
     "output_type": "stream",
     "text": [
      "HAH\n"
     ]
    }
   ],
   "source": [
    "with socket.create_connection( (\"localhost\", 8021) ):\n",
    "    print(\"HAH\")"
   ]
  },
  {
   "cell_type": "code",
   "execution_count": null,
   "id": "442a767d-97f6-4e5a-b932-1831c7415b69",
   "metadata": {},
   "outputs": [],
   "source": []
  },
  {
   "cell_type": "code",
   "execution_count": 6,
   "id": "37c94cce-5007-4dff-bf0d-909389a4a0d1",
   "metadata": {},
   "outputs": [
    {
     "data": {
      "text/plain": [
       "'success'"
      ]
     },
     "execution_count": 6,
     "metadata": {},
     "output_type": "execute_result"
    }
   ],
   "source": [
    "res = requests.post(\n",
    "    \"http://localhost:8022/reboot-ranking-index\",\n",
    "    data = json.dumps({\n",
    "       \n",
    "    }),\n",
    "    headers = {\"Content-Type\":\"application/json\"}\n",
    ").json()[\"response\"]\n",
    "res"
   ]
  },
  {
   "cell_type": "code",
   "execution_count": 7,
   "id": "e55f7313-d6ae-404b-b3b4-60f522e50dc2",
   "metadata": {},
   "outputs": [
    {
     "data": {
      "text/plain": [
       "'success'"
      ]
     },
     "execution_count": 7,
     "metadata": {},
     "output_type": "execute_result"
    }
   ],
   "source": [
    "res = requests.post(\n",
    "    \"http://localhost:8022/reboot-inverted-index\",\n",
    "    data = json.dumps({\n",
    "       \n",
    "    }),\n",
    "    headers = {\"Content-Type\":\"application/json\"}\n",
    ").json()[\"response\"]\n",
    "res"
   ]
  },
  {
   "cell_type": "code",
   "execution_count": 17,
   "id": "67d522d4-7116-4877-8d1b-adb743ef0e75",
   "metadata": {},
   "outputs": [
    {
     "data": {
      "text/plain": [
       "[[{'collection': 'PMCOA',\n",
       "   'id_field': 'id_int',\n",
       "   'id_type': 'int',\n",
       "   'id_value': 1950}]]"
      ]
     },
     "execution_count": 17,
     "metadata": {},
     "output_type": "execute_result"
    }
   ],
   "source": [
    "res = requests.post(\n",
    "    \"http://localhost:8022/check-duplicate\",\n",
    "    data = json.dumps({\n",
    "       \"paper_list\":[{\"Title\":\"Evolutionary autonomous agents and the nature of apraxia\"}]\n",
    "    }),\n",
    "    headers = {\"Content-Type\":\"application/json\"}\n",
    ").json()[\"response\"]\n",
    "res"
   ]
  },
  {
   "cell_type": "code",
   "execution_count": 13,
   "id": "f3c47c42-dd77-43c9-adf9-7802fdd07289",
   "metadata": {},
   "outputs": [
    {
     "data": {
      "text/plain": [
       "[[{'collection': 'PMCOA',\n",
       "   'id_field': 'id_int',\n",
       "   'id_type': 'int',\n",
       "   'id_value': 1950}]]"
      ]
     },
     "execution_count": 13,
     "metadata": {},
     "output_type": "execute_result"
    }
   ],
   "source": [
    "res = requests.post(\n",
    "    \"http://localhost:8028/check-duplicate\",\n",
    "    data = json.dumps({\n",
    "       \"paper_list\":[{\"Title\":\"Evolutionary autonomous agents and the nature of apraxia\"}]\n",
    "    }),\n",
    "    headers = {\"Content-Type\":\"application/json\"}\n",
    ").json()[\"response\"]\n",
    "res"
   ]
  },
  {
   "cell_type": "code",
   "execution_count": 35,
   "id": "b6c831f6-d7dc-4703-9e5c-895154d7f667",
   "metadata": {},
   "outputs": [
    {
     "data": {
      "text/plain": [
       "[{'Title': 'Evolutionary autonomous agents and the nature of apraxia',\n",
       "  'Author': [],\n",
       "  'First_Author': '',\n",
       "  'found': True,\n",
       "  'collection': 'PMCOA',\n",
       "  'id_field': 'id_int',\n",
       "  'id_type': 'int',\n",
       "  'id_value': 1950,\n",
       "  '_id': 'PMCOA_1950'}]"
      ]
     },
     "execution_count": 35,
     "metadata": {},
     "output_type": "execute_result"
    }
   ],
   "source": [
    "res = requests.post(\n",
    "    \"http://localhost:8029/title-generic-search\",\n",
    "    data = json.dumps({\n",
    "       \"titles\":[{\"Title\":\"Evolutionary autonomous agent the nature of apraxia\"}],\n",
    "        \"projection\":{\"Title\":1}\n",
    "    }),\n",
    "    headers = {\"Content-Type\":\"application/json\"}\n",
    ").json()[\"response\"]\n",
    "res"
   ]
  },
  {
   "cell_type": "code",
   "execution_count": 20,
   "id": "f1f1164a-599b-4fd2-a094-83bc1f93b3c8",
   "metadata": {},
   "outputs": [
    {
     "data": {
      "text/plain": [
       "'DOCUMENT_SEARCH_SERVICE_ADDRESS'"
      ]
     },
     "execution_count": 20,
     "metadata": {},
     "output_type": "execute_result"
    }
   ],
   "source": [
    "\"document_search_service_address\".upper()"
   ]
  },
  {
   "cell_type": "code",
   "execution_count": 51,
   "id": "631baa3d-c335-4e43-bf87-92e46ab489d8",
   "metadata": {},
   "outputs": [],
   "source": [
    "paper_id = {\"collection\":\"arXiv\", \n",
    "                                     \"id_field\":\"id_int\",\n",
    "                                     \"id_value\":10\n",
    "                                    }\n",
    "paper_content = requests.post(\n",
    "    \"http://localhost:8023/get-papers\",\n",
    "    data = json.dumps({\n",
    "        \"paper_list\":[paper_id],\n",
    "        # \"projection\":{\"Title\":1, \"Abstract\":1}\n",
    "    }),\n",
    "    headers = {\"Content-Type\":\"application/json\"}\n",
    ").json()[\"response\"][0]"
   ]
  },
  {
   "cell_type": "code",
   "execution_count": 53,
   "id": "2618cfa1-0671-4f31-bf66-25a84dc4e620",
   "metadata": {},
   "outputs": [],
   "source": [
    "res = requests.post(\n",
    "    \"http://localhost:8030/process\",\n",
    "    data = json.dumps({\n",
    "        \"mode\":\"highlight_paper_given_ref_sentences\",\n",
    "        \"data\":{ \"paper\":paper_content,\n",
    "                 \"ref_sentences\":[\"This paper presents the first direct calibration method between event cameras and lidars, removing dependencies on frame-based camera intermediaries and/or highly-accurate hand measurements. Code will be made publicly availa\"]}\n",
    "    }),\n",
    "    headers = {\"Content-Type\":\"application/json\"}\n",
    ").json()[\"response\"]\n",
    "# res"
   ]
  },
  {
   "cell_type": "code",
   "execution_count": 54,
   "id": "fee4ec87-4f40-49f4-99cf-fd79d67622ac",
   "metadata": {},
   "outputs": [
    {
     "data": {
      "text/plain": [
       "[{'bibtex': '@article{2005, paperIDInfo={collection:PMCOA, id_value:1950, id_type:int}, title={Evolutionary autonomous agents and the nature of apraxia}, volume={4}, ISSN={1475-925X}, url={http://dx.doi.org/10.1186/1475-925X-4-1}, DOI={10.1186/1475-925x-4-1}, number={1}, journal={BioMedical Engineering OnLine}, publisher={Springer Science and Business Media LLC}, author={Borrett, Donald S and Jin, Frank and Kwan, Hon C}, year={2005}, month={Jan} }',\n",
       "  'mla': 'Borrett, Donald S., et al. “Evolutionary Autonomous Agents and the Nature of Apraxia.” BioMedical Engineering OnLine, vol. 4, no. 1, Jan. 2005. Crossref, https://doi.org/10.1186/1475-925x-4-1.'}]"
      ]
     },
     "execution_count": 54,
     "metadata": {},
     "output_type": "execute_result"
    }
   ],
   "source": [
    "res = requests.post(\n",
    "    \"http://localhost:8031/citation-formatting-service\",\n",
    "    data = json.dumps({\n",
    "        \"paper_list\":[ {'collection': 'PMCOA',\n",
    "   'id_field': 'id_int',\n",
    "   'id_type': 'int',\n",
    "   'id_value': 1950} ]\n",
    "           }),\n",
    "    headers = {\"Content-Type\":\"application/json\"}\n",
    ").json()[\"response\"]\n",
    "res"
   ]
  },
  {
   "cell_type": "code",
   "execution_count": null,
   "id": "456f2339-59ba-4b81-952c-3325873f0ac9",
   "metadata": {},
   "outputs": [],
   "source": []
  },
  {
   "cell_type": "code",
   "execution_count": 30,
   "id": "081660d5-81c5-47e5-a97e-b38bc0944682",
   "metadata": {},
   "outputs": [
    {
     "data": {
      "text/plain": [
       "<Response [200]>"
      ]
     },
     "execution_count": 30,
     "metadata": {},
     "output_type": "execute_result"
    }
   ],
   "source": [
    "requests.get(\n",
    "    \"http://localhost:8024/status\",   \n",
    ")"
   ]
  },
  {
   "cell_type": "code",
   "execution_count": 33,
   "id": "3f20b0ae-3488-4194-a12a-5f66e8ef9af6",
   "metadata": {},
   "outputs": [],
   "source": [
    "res = requests.post(\n",
    "    \"http://localhost:8060/parse-pdf\",\n",
    "    files = {\"pdf\":open(\"example.pdf\",\"rb\").read()}\n",
    ").json()[\"response\"]\n",
    "# res"
   ]
  },
  {
   "cell_type": "code",
   "execution_count": null,
   "id": "e5ff7afd-e8da-4ed6-9389-20e66d70c394",
   "metadata": {},
   "outputs": [],
   "source": []
  },
  {
   "cell_type": "code",
   "execution_count": 1,
   "id": "6717636e-1115-467a-bfda-b28398fc6d2c",
   "metadata": {},
   "outputs": [],
   "source": [
    "from modules.paper_database.database_managers import SqliteClient\n",
    "import numpy as np\n",
    "import requests, json\n",
    "from tqdm import tqdm"
   ]
  },
  {
   "cell_type": "code",
   "execution_count": 2,
   "id": "4a54b5ba-d024-4237-b149-d7df7c1a7ed6",
   "metadata": {},
   "outputs": [],
   "source": [
    "def fast_metadata_search( paper_metadata_list, address = \"http://localhost:8024/check-duplicate\" ):\n",
    "    res = requests.post(\n",
    "        address,\n",
    "        data = json.dumps({\"paper_list\":paper_metadata_list}),\n",
    "        headers = {\"Content-Type\":\"application/json\", 'Connection': 'close'}\n",
    "    ).json()[\"response\"]\n",
    "    return res"
   ]
  },
  {
   "cell_type": "code",
   "execution_count": 3,
   "id": "5b34a89b-d143-40e2-928a-d91e6698a3d5",
   "metadata": {},
   "outputs": [],
   "source": [
    "buffered_paper_db = SqliteClient( \"../data/ExampleCollection/sqlite_database_buffer/DB.db\" )\n",
    "paper_db = SqliteClient( \"../data/ExampleCollection/sqlite_database/DB.db\" )"
   ]
  },
  {
   "cell_type": "code",
   "execution_count": 4,
   "id": "56c1b001-1c94-4901-8e37-588f9bd2a544",
   "metadata": {},
   "outputs": [
    {
     "data": {
      "text/plain": [
       "'ExampleCollection'"
      ]
     },
     "execution_count": 4,
     "metadata": {},
     "output_type": "execute_result"
    }
   ],
   "source": [
    "assert len(buffered_paper_db.collections) == 1 and buffered_paper_db.collections == paper_db.collections\n",
    "collection = list(buffered_paper_db.collections)[0]\n",
    "collection"
   ]
  },
  {
   "cell_type": "code",
   "execution_count": 5,
   "id": "21850a27-9c85-4143-bb59-73edfed66bab",
   "metadata": {},
   "outputs": [
    {
     "name": "stderr",
     "output_type": "stream",
     "text": [
      "  6%|█████▋                                                                                   | 2/31 [00:04<01:04,  2.22s/it]\n"
     ]
    },
    {
     "ename": "OperationalError",
     "evalue": "attempt to write a readonly database",
     "output_type": "error",
     "traceback": [
      "\u001b[0;31m---------------------------------------------------------------------------\u001b[0m",
      "\u001b[0;31mOperationalError\u001b[0m                          Traceback (most recent call last)",
      "\u001b[0;32m/tmp/ipykernel_633229/2317988312.py\u001b[0m in \u001b[0;36m<module>\u001b[0;34m\u001b[0m\n\u001b[1;32m     22\u001b[0m             \u001b[0mnew_papers\u001b[0m\u001b[0;34m.\u001b[0m\u001b[0mappend\u001b[0m\u001b[0;34m(\u001b[0m \u001b[0mpaper\u001b[0m \u001b[0;34m)\u001b[0m\u001b[0;34m\u001b[0m\u001b[0;34m\u001b[0m\u001b[0m\n\u001b[1;32m     23\u001b[0m \u001b[0;34m\u001b[0m\u001b[0m\n\u001b[0;32m---> 24\u001b[0;31m     \u001b[0mpaper_db\u001b[0m\u001b[0;34m.\u001b[0m\u001b[0minsert_papers\u001b[0m\u001b[0;34m(\u001b[0m \u001b[0mnew_papers\u001b[0m\u001b[0;34m,\u001b[0m \u001b[0mcollection\u001b[0m \u001b[0;34m)\u001b[0m\u001b[0;34m\u001b[0m\u001b[0;34m\u001b[0m\u001b[0m\n\u001b[0m",
      "\u001b[0;32m/mnt/6a0e0140-bae2-41a5-9ee1-870470a807c1/nlp-service/document_prefetch/src/modules/paper_database/database_managers.py\u001b[0m in \u001b[0;36minsert_papers\u001b[0;34m(self, papers, collection)\u001b[0m\n\u001b[1;32m    191\u001b[0m                                                 ) )\n\u001b[1;32m    192\u001b[0m         \u001b[0mvalues\u001b[0m \u001b[0;34m=\u001b[0m \u001b[0;34m\",\"\u001b[0m\u001b[0;34m.\u001b[0m\u001b[0mjoin\u001b[0m\u001b[0;34m(\u001b[0m \u001b[0mvalues\u001b[0m \u001b[0;34m)\u001b[0m\u001b[0;34m\u001b[0m\u001b[0;34m\u001b[0m\u001b[0m\n\u001b[0;32m--> 193\u001b[0;31m         \u001b[0mself\u001b[0m\u001b[0;34m.\u001b[0m\u001b[0mcur\u001b[0m\u001b[0;34m.\u001b[0m\u001b[0mexecute\u001b[0m\u001b[0;34m(\u001b[0m \u001b[0;34m\"INSERT INTO %s('Metadata','Parsed_Content','Reference','PDF_Base64_String','Last_update_unixtime') VALUES %s;\"\u001b[0m\u001b[0;34m%\u001b[0m\u001b[0;34m(\u001b[0m\u001b[0mcollection\u001b[0m\u001b[0;34m,\u001b[0m \u001b[0mvalues\u001b[0m \u001b[0;34m)\u001b[0m  \u001b[0;34m)\u001b[0m\u001b[0;34m\u001b[0m\u001b[0;34m\u001b[0m\u001b[0m\n\u001b[0m\u001b[1;32m    194\u001b[0m         \u001b[0mself\u001b[0m\u001b[0;34m.\u001b[0m\u001b[0mconn\u001b[0m\u001b[0;34m.\u001b[0m\u001b[0mcommit\u001b[0m\u001b[0;34m(\u001b[0m\u001b[0;34m)\u001b[0m\u001b[0;34m\u001b[0m\u001b[0;34m\u001b[0m\u001b[0m\n\u001b[1;32m    195\u001b[0m \u001b[0;34m\u001b[0m\u001b[0m\n",
      "\u001b[0;31mOperationalError\u001b[0m: attempt to write a readonly database"
     ]
    }
   ],
   "source": [
    "all_buffered_ids = np.arange( buffered_paper_db.get_max_rowid( collection ) ) + 1\n",
    "batch_size = 1000\n",
    "for pos in tqdm(range(0, len(all_buffered_ids), batch_size )):\n",
    "    buffered_ids_batch = all_buffered_ids[pos:pos+batch_size]\n",
    "    buffered_papers_batch = buffered_paper_db.get_papers(\n",
    "        [ {\"collection\":collection, \"id_field\":\"id_int\", \"id_value\":id_value} for id_value in buffered_ids_batch ]\n",
    "    )\n",
    "    match_res_batch = fast_metadata_search(\n",
    "        [\n",
    "            {\n",
    "                \"Title\":paper.get(\"Title\", \"\"),\n",
    "                \"FirstAuthor\":paper[\"Author\"][0][\"GivenName\"] + \" \" + paper[\"Author\"][0][\"FamilyName\"] if len(paper.get(\"Author\",[])) > 0 else \"\",\n",
    "                \"DOI\":paper.get(\"DOI\", \"\"),\n",
    "                \"MD5\":paper.get(\"MD5\", \"\")\n",
    "            }for paper in buffered_papers_batch\n",
    "        ]\n",
    "    )\n",
    "    \n",
    "    new_papers = []\n",
    "    for paper, match_res in zip( buffered_papers_batch, match_res_batch ):\n",
    "        if len(match_res) == 0:\n",
    "            new_papers.append( paper )\n",
    "            \n",
    "    paper_db.insert_papers( new_papers, collection )"
   ]
  },
  {
   "cell_type": "code",
   "execution_count": 6,
   "id": "30771b61-46c3-4b67-85b3-83f126e57aa6",
   "metadata": {},
   "outputs": [
    {
     "ename": "OperationalError",
     "evalue": "attempt to write a readonly database",
     "output_type": "error",
     "traceback": [
      "\u001b[0;31m---------------------------------------------------------------------------\u001b[0m",
      "\u001b[0;31mOperationalError\u001b[0m                          Traceback (most recent call last)",
      "\u001b[0;32m/tmp/ipykernel_632876/3864715237.py\u001b[0m in \u001b[0;36m<module>\u001b[0;34m\u001b[0m\n\u001b[0;32m----> 1\u001b[0;31m \u001b[0mpaper_db\u001b[0m\u001b[0;34m.\u001b[0m\u001b[0minsert_papers\u001b[0m\u001b[0;34m(\u001b[0m \u001b[0mnew_papers\u001b[0m\u001b[0;34m,\u001b[0m \u001b[0mcollection\u001b[0m \u001b[0;34m)\u001b[0m\u001b[0;34m\u001b[0m\u001b[0;34m\u001b[0m\u001b[0m\n\u001b[0m",
      "\u001b[0;32m/mnt/6a0e0140-bae2-41a5-9ee1-870470a807c1/nlp-service/document_prefetch/src/modules/paper_database/database_managers.py\u001b[0m in \u001b[0;36minsert_papers\u001b[0;34m(self, papers, collection)\u001b[0m\n\u001b[1;32m    191\u001b[0m                                                 ) )\n\u001b[1;32m    192\u001b[0m         \u001b[0mvalues\u001b[0m \u001b[0;34m=\u001b[0m \u001b[0;34m\",\"\u001b[0m\u001b[0;34m.\u001b[0m\u001b[0mjoin\u001b[0m\u001b[0;34m(\u001b[0m \u001b[0mvalues\u001b[0m \u001b[0;34m)\u001b[0m\u001b[0;34m\u001b[0m\u001b[0;34m\u001b[0m\u001b[0m\n\u001b[0;32m--> 193\u001b[0;31m         \u001b[0mself\u001b[0m\u001b[0;34m.\u001b[0m\u001b[0mcur\u001b[0m\u001b[0;34m.\u001b[0m\u001b[0mexecute\u001b[0m\u001b[0;34m(\u001b[0m \u001b[0;34m\"INSERT INTO %s('Metadata','Parsed_Content','Reference','PDF_Base64_String','Last_update_unixtime') VALUES %s;\"\u001b[0m\u001b[0;34m%\u001b[0m\u001b[0;34m(\u001b[0m\u001b[0mcollection\u001b[0m\u001b[0;34m,\u001b[0m \u001b[0mvalues\u001b[0m \u001b[0;34m)\u001b[0m  \u001b[0;34m)\u001b[0m\u001b[0;34m\u001b[0m\u001b[0;34m\u001b[0m\u001b[0m\n\u001b[0m\u001b[1;32m    194\u001b[0m         \u001b[0mself\u001b[0m\u001b[0;34m.\u001b[0m\u001b[0mconn\u001b[0m\u001b[0;34m.\u001b[0m\u001b[0mcommit\u001b[0m\u001b[0;34m(\u001b[0m\u001b[0;34m)\u001b[0m\u001b[0;34m\u001b[0m\u001b[0;34m\u001b[0m\u001b[0m\n\u001b[1;32m    195\u001b[0m \u001b[0;34m\u001b[0m\u001b[0m\n",
      "\u001b[0;31mOperationalError\u001b[0m: attempt to write a readonly database"
     ]
    }
   ],
   "source": [
    "paper_db.insert_papers( new_papers, collection )"
   ]
  },
  {
   "cell_type": "code",
   "execution_count": 28,
   "id": "4e1daa34-cde0-48d4-9964-a240719d1485",
   "metadata": {},
   "outputs": [
    {
     "data": {
      "text/plain": [
       "2989"
      ]
     },
     "execution_count": 28,
     "metadata": {},
     "output_type": "execute_result"
    }
   ],
   "source": [
    "paper_db.get_max_rowid(collection)"
   ]
  },
  {
   "cell_type": "code",
   "execution_count": 29,
   "id": "e774b3e4-cf21-4f40-9206-259c6d2b4d02",
   "metadata": {},
   "outputs": [
    {
     "data": {
      "text/plain": [
       "30462"
      ]
     },
     "execution_count": 29,
     "metadata": {},
     "output_type": "execute_result"
    }
   ],
   "source": [
    "buffered_paper_db.get_max_rowid(collection)"
   ]
  },
  {
   "cell_type": "code",
   "execution_count": 27,
   "id": "c78b4dcc-b437-4453-aa42-cc8464df4dae",
   "metadata": {},
   "outputs": [
    {
     "ename": "InvalidSchema",
     "evalue": "No connection adapters were found for 'afcf6f71d414:8024/check-duplicate'",
     "output_type": "error",
     "traceback": [
      "\u001b[0;31m---------------------------------------------------------------------------\u001b[0m",
      "\u001b[0;31mInvalidSchema\u001b[0m                             Traceback (most recent call last)",
      "\u001b[0;32m/tmp/ipykernel_615315/866963007.py\u001b[0m in \u001b[0;36m<module>\u001b[0;34m\u001b[0m\n\u001b[1;32m      8\u001b[0m         }for paper in buffered_papers_batch\n\u001b[1;32m      9\u001b[0m     ],\n\u001b[0;32m---> 10\u001b[0;31m     \u001b[0maddress\u001b[0m\u001b[0;34m=\u001b[0m\u001b[0;34m\"afcf6f71d414:8024/check-duplicate\"\u001b[0m\u001b[0;34m\u001b[0m\u001b[0;34m\u001b[0m\u001b[0m\n\u001b[0m\u001b[1;32m     11\u001b[0m )\n\u001b[1;32m     12\u001b[0m \u001b[0mmatch_res_batch\u001b[0m\u001b[0;34m\u001b[0m\u001b[0;34m\u001b[0m\u001b[0m\n",
      "\u001b[0;32m/tmp/ipykernel_615315/2283435441.py\u001b[0m in \u001b[0;36mfast_metadata_search\u001b[0;34m(paper_metadata_list, address)\u001b[0m\n\u001b[1;32m      3\u001b[0m         \u001b[0maddress\u001b[0m\u001b[0;34m,\u001b[0m\u001b[0;34m\u001b[0m\u001b[0;34m\u001b[0m\u001b[0m\n\u001b[1;32m      4\u001b[0m         \u001b[0mdata\u001b[0m \u001b[0;34m=\u001b[0m \u001b[0mjson\u001b[0m\u001b[0;34m.\u001b[0m\u001b[0mdumps\u001b[0m\u001b[0;34m(\u001b[0m\u001b[0;34m{\u001b[0m\u001b[0;34m\"paper_list\"\u001b[0m\u001b[0;34m:\u001b[0m\u001b[0mpaper_metadata_list\u001b[0m\u001b[0;34m}\u001b[0m\u001b[0;34m)\u001b[0m\u001b[0;34m,\u001b[0m\u001b[0;34m\u001b[0m\u001b[0;34m\u001b[0m\u001b[0m\n\u001b[0;32m----> 5\u001b[0;31m         \u001b[0mheaders\u001b[0m \u001b[0;34m=\u001b[0m \u001b[0;34m{\u001b[0m\u001b[0;34m\"Content-Type\"\u001b[0m\u001b[0;34m:\u001b[0m\u001b[0;34m\"application/json\"\u001b[0m\u001b[0;34m,\u001b[0m \u001b[0;34m'Connection'\u001b[0m\u001b[0;34m:\u001b[0m \u001b[0;34m'close'\u001b[0m\u001b[0;34m}\u001b[0m\u001b[0;34m\u001b[0m\u001b[0;34m\u001b[0m\u001b[0m\n\u001b[0m\u001b[1;32m      6\u001b[0m     ).json()[\"response\"]\n\u001b[1;32m      7\u001b[0m     \u001b[0;32mreturn\u001b[0m \u001b[0mres\u001b[0m\u001b[0;34m\u001b[0m\u001b[0;34m\u001b[0m\u001b[0m\n",
      "\u001b[0;32m~/anaconda3/envs/scieditor/lib/python3.7/site-packages/requests/api.py\u001b[0m in \u001b[0;36mpost\u001b[0;34m(url, data, json, **kwargs)\u001b[0m\n\u001b[1;32m    115\u001b[0m     \"\"\"\n\u001b[1;32m    116\u001b[0m \u001b[0;34m\u001b[0m\u001b[0m\n\u001b[0;32m--> 117\u001b[0;31m     \u001b[0;32mreturn\u001b[0m \u001b[0mrequest\u001b[0m\u001b[0;34m(\u001b[0m\u001b[0;34m'post'\u001b[0m\u001b[0;34m,\u001b[0m \u001b[0murl\u001b[0m\u001b[0;34m,\u001b[0m \u001b[0mdata\u001b[0m\u001b[0;34m=\u001b[0m\u001b[0mdata\u001b[0m\u001b[0;34m,\u001b[0m \u001b[0mjson\u001b[0m\u001b[0;34m=\u001b[0m\u001b[0mjson\u001b[0m\u001b[0;34m,\u001b[0m \u001b[0;34m**\u001b[0m\u001b[0mkwargs\u001b[0m\u001b[0;34m)\u001b[0m\u001b[0;34m\u001b[0m\u001b[0;34m\u001b[0m\u001b[0m\n\u001b[0m\u001b[1;32m    118\u001b[0m \u001b[0;34m\u001b[0m\u001b[0m\n\u001b[1;32m    119\u001b[0m \u001b[0;34m\u001b[0m\u001b[0m\n",
      "\u001b[0;32m~/anaconda3/envs/scieditor/lib/python3.7/site-packages/requests/api.py\u001b[0m in \u001b[0;36mrequest\u001b[0;34m(method, url, **kwargs)\u001b[0m\n\u001b[1;32m     59\u001b[0m     \u001b[0;31m# cases, and look like a memory leak in others.\u001b[0m\u001b[0;34m\u001b[0m\u001b[0;34m\u001b[0m\u001b[0;34m\u001b[0m\u001b[0m\n\u001b[1;32m     60\u001b[0m     \u001b[0;32mwith\u001b[0m \u001b[0msessions\u001b[0m\u001b[0;34m.\u001b[0m\u001b[0mSession\u001b[0m\u001b[0;34m(\u001b[0m\u001b[0;34m)\u001b[0m \u001b[0;32mas\u001b[0m \u001b[0msession\u001b[0m\u001b[0;34m:\u001b[0m\u001b[0;34m\u001b[0m\u001b[0;34m\u001b[0m\u001b[0m\n\u001b[0;32m---> 61\u001b[0;31m         \u001b[0;32mreturn\u001b[0m \u001b[0msession\u001b[0m\u001b[0;34m.\u001b[0m\u001b[0mrequest\u001b[0m\u001b[0;34m(\u001b[0m\u001b[0mmethod\u001b[0m\u001b[0;34m=\u001b[0m\u001b[0mmethod\u001b[0m\u001b[0;34m,\u001b[0m \u001b[0murl\u001b[0m\u001b[0;34m=\u001b[0m\u001b[0murl\u001b[0m\u001b[0;34m,\u001b[0m \u001b[0;34m**\u001b[0m\u001b[0mkwargs\u001b[0m\u001b[0;34m)\u001b[0m\u001b[0;34m\u001b[0m\u001b[0;34m\u001b[0m\u001b[0m\n\u001b[0m\u001b[1;32m     62\u001b[0m \u001b[0;34m\u001b[0m\u001b[0m\n\u001b[1;32m     63\u001b[0m \u001b[0;34m\u001b[0m\u001b[0m\n",
      "\u001b[0;32m~/anaconda3/envs/scieditor/lib/python3.7/site-packages/requests/sessions.py\u001b[0m in \u001b[0;36mrequest\u001b[0;34m(self, method, url, params, data, headers, cookies, files, auth, timeout, allow_redirects, proxies, hooks, stream, verify, cert, json)\u001b[0m\n\u001b[1;32m    527\u001b[0m         }\n\u001b[1;32m    528\u001b[0m         \u001b[0msend_kwargs\u001b[0m\u001b[0;34m.\u001b[0m\u001b[0mupdate\u001b[0m\u001b[0;34m(\u001b[0m\u001b[0msettings\u001b[0m\u001b[0;34m)\u001b[0m\u001b[0;34m\u001b[0m\u001b[0;34m\u001b[0m\u001b[0m\n\u001b[0;32m--> 529\u001b[0;31m         \u001b[0mresp\u001b[0m \u001b[0;34m=\u001b[0m \u001b[0mself\u001b[0m\u001b[0;34m.\u001b[0m\u001b[0msend\u001b[0m\u001b[0;34m(\u001b[0m\u001b[0mprep\u001b[0m\u001b[0;34m,\u001b[0m \u001b[0;34m**\u001b[0m\u001b[0msend_kwargs\u001b[0m\u001b[0;34m)\u001b[0m\u001b[0;34m\u001b[0m\u001b[0;34m\u001b[0m\u001b[0m\n\u001b[0m\u001b[1;32m    530\u001b[0m \u001b[0;34m\u001b[0m\u001b[0m\n\u001b[1;32m    531\u001b[0m         \u001b[0;32mreturn\u001b[0m \u001b[0mresp\u001b[0m\u001b[0;34m\u001b[0m\u001b[0;34m\u001b[0m\u001b[0m\n",
      "\u001b[0;32m~/anaconda3/envs/scieditor/lib/python3.7/site-packages/requests/sessions.py\u001b[0m in \u001b[0;36msend\u001b[0;34m(self, request, **kwargs)\u001b[0m\n\u001b[1;32m    637\u001b[0m \u001b[0;34m\u001b[0m\u001b[0m\n\u001b[1;32m    638\u001b[0m         \u001b[0;31m# Get the appropriate adapter to use\u001b[0m\u001b[0;34m\u001b[0m\u001b[0;34m\u001b[0m\u001b[0;34m\u001b[0m\u001b[0m\n\u001b[0;32m--> 639\u001b[0;31m         \u001b[0madapter\u001b[0m \u001b[0;34m=\u001b[0m \u001b[0mself\u001b[0m\u001b[0;34m.\u001b[0m\u001b[0mget_adapter\u001b[0m\u001b[0;34m(\u001b[0m\u001b[0murl\u001b[0m\u001b[0;34m=\u001b[0m\u001b[0mrequest\u001b[0m\u001b[0;34m.\u001b[0m\u001b[0murl\u001b[0m\u001b[0;34m)\u001b[0m\u001b[0;34m\u001b[0m\u001b[0;34m\u001b[0m\u001b[0m\n\u001b[0m\u001b[1;32m    640\u001b[0m \u001b[0;34m\u001b[0m\u001b[0m\n\u001b[1;32m    641\u001b[0m         \u001b[0;31m# Start time (approximately) of the request\u001b[0m\u001b[0;34m\u001b[0m\u001b[0;34m\u001b[0m\u001b[0;34m\u001b[0m\u001b[0m\n",
      "\u001b[0;32m~/anaconda3/envs/scieditor/lib/python3.7/site-packages/requests/sessions.py\u001b[0m in \u001b[0;36mget_adapter\u001b[0;34m(self, url)\u001b[0m\n\u001b[1;32m    730\u001b[0m \u001b[0;34m\u001b[0m\u001b[0m\n\u001b[1;32m    731\u001b[0m         \u001b[0;31m# Nothing matches :-/\u001b[0m\u001b[0;34m\u001b[0m\u001b[0;34m\u001b[0m\u001b[0;34m\u001b[0m\u001b[0m\n\u001b[0;32m--> 732\u001b[0;31m         \u001b[0;32mraise\u001b[0m \u001b[0mInvalidSchema\u001b[0m\u001b[0;34m(\u001b[0m\u001b[0;34m\"No connection adapters were found for {!r}\"\u001b[0m\u001b[0;34m.\u001b[0m\u001b[0mformat\u001b[0m\u001b[0;34m(\u001b[0m\u001b[0murl\u001b[0m\u001b[0;34m)\u001b[0m\u001b[0;34m)\u001b[0m\u001b[0;34m\u001b[0m\u001b[0;34m\u001b[0m\u001b[0m\n\u001b[0m\u001b[1;32m    733\u001b[0m \u001b[0;34m\u001b[0m\u001b[0m\n\u001b[1;32m    734\u001b[0m     \u001b[0;32mdef\u001b[0m \u001b[0mclose\u001b[0m\u001b[0;34m(\u001b[0m\u001b[0mself\u001b[0m\u001b[0;34m)\u001b[0m\u001b[0;34m:\u001b[0m\u001b[0;34m\u001b[0m\u001b[0;34m\u001b[0m\u001b[0m\n",
      "\u001b[0;31mInvalidSchema\u001b[0m: No connection adapters were found for 'afcf6f71d414:8024/check-duplicate'"
     ]
    }
   ],
   "source": [
    "    match_res_batch = fast_metadata_search(\n",
    "        [\n",
    "            {\n",
    "                \"Title\":paper.get(\"Title\", \"\"),\n",
    "                \"FirstAuthor\":paper[\"Author\"][0][\"GivenName\"] + \" \" + paper[\"Author\"][0][\"FamilyName\"] if len(paper.get(\"Author\",[])) > 0 else \"\",\n",
    "                \"DOI\":paper.get(\"DOI\", \"\"),\n",
    "                \"MD5\":paper.get(\"MD5\", \"\")\n",
    "            }for paper in buffered_papers_batch\n",
    "        ],\n",
    "        address=\"afcf6f71d414:8024/check-duplicate\"\n",
    "    )\n",
    "    match_res_batch"
   ]
  },
  {
   "cell_type": "code",
   "execution_count": null,
   "id": "d3141f86-4c2f-475e-b3f7-9821feceae6a",
   "metadata": {},
   "outputs": [],
   "source": []
  },
  {
   "cell_type": "code",
   "execution_count": null,
   "id": "03309cda-41df-4fb2-b9cd-5db627ee4196",
   "metadata": {},
   "outputs": [],
   "source": []
  },
  {
   "cell_type": "code",
   "execution_count": 20,
   "id": "35cd9d5c-0b14-4075-a68c-28bbaabb1b6f",
   "metadata": {},
   "outputs": [
    {
     "data": {
      "text/plain": [
       "462"
      ]
     },
     "execution_count": 20,
     "metadata": {},
     "output_type": "execute_result"
    }
   ],
   "source": [
    "len(new_papers)"
   ]
  },
  {
   "cell_type": "code",
   "execution_count": 23,
   "id": "cafddf40-9b77-4351-9c33-54b77217872e",
   "metadata": {},
   "outputs": [
    {
     "data": {
      "text/plain": [
       "dict_keys(['Author', 'Title', 'Abstract', 'Venue', 'DOI', 'URL', 'PublicationDate', 'Abstract_in_metadata', 'isDuplicated', 'S2CID', 'PMID', 'PMCID', 'ArxivId', 'ACLId', 'MAGId', 'id_int', 'Last_update_unixtime', 'Content', 'Reference'])"
      ]
     },
     "execution_count": 23,
     "metadata": {},
     "output_type": "execute_result"
    }
   ],
   "source": [
    "new_papers[90].keys()"
   ]
  },
  {
   "cell_type": "code",
   "execution_count": 16,
   "id": "94d9835d-9a9b-4015-acb3-4058f00cbd1a",
   "metadata": {},
   "outputs": [
    {
     "data": {
      "text/plain": [
       "30462"
      ]
     },
     "execution_count": 16,
     "metadata": {},
     "output_type": "execute_result"
    }
   ],
   "source": [
    "len(all_buffered_ids)"
   ]
  },
  {
   "cell_type": "code",
   "execution_count": null,
   "id": "12109e4b-ff45-475a-ac57-88c70a30ed41",
   "metadata": {},
   "outputs": [],
   "source": []
  },
  {
   "cell_type": "code",
   "execution_count": 44,
   "id": "7899d79d-01a8-49f4-b542-876d6d24bd50",
   "metadata": {},
   "outputs": [],
   "source": [
    "all_ids = np.arange(paper_db.get_max_rowid( collection )) + 1"
   ]
  },
  {
   "cell_type": "code",
   "execution_count": null,
   "id": "49d8f622-a282-466d-a902-459d651b36d9",
   "metadata": {},
   "outputs": [],
   "source": []
  },
  {
   "cell_type": "code",
   "execution_count": 74,
   "id": "915f155f-6924-446e-b102-d7f7b8ad718c",
   "metadata": {},
   "outputs": [],
   "source": [
    "batch_size = 1000\n",
    "for pos in range(0, len(all_ids), batch_size):\n",
    "    ids_batch = all_ids[pos:pos+batch_size]\n",
    "    papers_batch = paper_db.get_papers(\n",
    "        [ {\"collection\":collection, \n",
    "           \"id_field\":\"id_int\",\n",
    "           \"id_value\":id_int\n",
    "          } for id_int in ids_batch ]\n",
    "    )\n",
    "    paper_metadata_batch = [ \n",
    "        {\n",
    "            \"Title\":paper.get(\"Title\", \"\"),\n",
    "            \"FirstAuthor\":paper[\"Author\"][0][\"GivenName\"] + \" \" + paper[\"Author\"][0][\"FamilyName\"] if len(paper.get(\"Author\",[])) > 0 else \"\",\n",
    "            \"DOI\":paper.get(\"DOI\", \"\"),\n",
    "            \"MD5\":paper.get(\"MD5\", \"\")\n",
    "            \n",
    "        }for paper in papers_batch ]\n",
    "    \n",
    "    match_res_batch = fast_metadata_search( paper_metadata_batch )\n",
    "    \n",
    "    new_papers = []\n",
    "    for paper, match_res in zip( papers_batch, match_res_batch ):\n",
    "        if len(match_res) == 0:\n",
    "            new_papers.append( paper )\n",
    "    \n",
    "    \n",
    "    \n",
    "    \n",
    "    break\n",
    "    \n",
    "    "
   ]
  },
  {
   "cell_type": "code",
   "execution_count": 75,
   "id": "b4afca11-056c-44b0-9f98-9ea1398e2390",
   "metadata": {},
   "outputs": [
    {
     "data": {
      "text/plain": [
       "[]"
      ]
     },
     "execution_count": 75,
     "metadata": {},
     "output_type": "execute_result"
    }
   ],
   "source": [
    "new_papers"
   ]
  },
  {
   "cell_type": "code",
   "execution_count": 68,
   "id": "de525ef5-aa83-4d79-b808-c87cbe86df7b",
   "metadata": {},
   "outputs": [
    {
     "data": {
      "text/plain": [
       "[[], []]"
      ]
     },
     "execution_count": 68,
     "metadata": {},
     "output_type": "execute_result"
    }
   ],
   "source": [
    "res = requests.post(\n",
    "    \"http://localhost:8024/check-duplicate\",\n",
    "    data = json.dumps({\"paper_list\":[{},{}]}),\n",
    "    headers = {\"Content-Type\":\"application/json\"}\n",
    ").json()[\"response\"]\n",
    "res"
   ]
  },
  {
   "cell_type": "code",
   "execution_count": 70,
   "id": "f9b28b2c-5c3e-496b-aef8-290f35b61d90",
   "metadata": {},
   "outputs": [],
   "source": [
    "res = requests.post(\n",
    "    \"http://localhost:8024/check-duplicate\",\n",
    "    data = json.dumps({\"paper_list\":paper_metadata_batch}),\n",
    "    headers = {\"Content-Type\":\"application/json\"}\n",
    ").json()[\"response\"]\n",
    "for item in res:\n",
    "    assert len(item)>0"
   ]
  },
  {
   "cell_type": "code",
   "execution_count": 65,
   "id": "a982f2bb-b7ef-49c1-b815-b7fcc42e93aa",
   "metadata": {},
   "outputs": [],
   "source": [
    "# paper_metadata_batch"
   ]
  },
  {
   "cell_type": "code",
   "execution_count": 59,
   "id": "e8c55b91-b11c-4d5a-9b0f-c41b0c665732",
   "metadata": {},
   "outputs": [
    {
     "data": {
      "text/plain": [
       "'10.1186/1476-511X-3-21'"
      ]
     },
     "execution_count": 59,
     "metadata": {},
     "output_type": "execute_result"
    }
   ],
   "source": [
    "papers_batch[-2][\"DOI\"]"
   ]
  },
  {
   "cell_type": "code",
   "execution_count": null,
   "id": "e2fa565d-797f-4317-a07f-fa68b40a3122",
   "metadata": {},
   "outputs": [],
   "source": [
    "first_author = paper_info[\"Author\"][0][\"GivenName\"] + \" \" + paper_info[\"Author\"][0][\"FamilyName\"] "
   ]
  },
  {
   "cell_type": "code",
   "execution_count": null,
   "id": "8ae41887-1fe3-4cfb-a3d8-25e4df3d55c2",
   "metadata": {},
   "outputs": [],
   "source": [
    " md5 = \"\",  doi = \"\", title = \"\", first_author = \"\""
   ]
  },
  {
   "cell_type": "code",
   "execution_count": 61,
   "id": "c0c64eed-4e28-4daa-8470-69609378ac77",
   "metadata": {},
   "outputs": [
    {
     "data": {
      "text/plain": [
       "[[{'collection': 'ExampleCollection',\n",
       "   'id_field': 'id_int',\n",
       "   'id_type': 'int',\n",
       "   'id_value': 999}]]"
      ]
     },
     "execution_count": 61,
     "metadata": {},
     "output_type": "execute_result"
    }
   ],
   "source": [
    "res = requests.post(\n",
    "    \"http://localhost:8024/check-duplicate\",\n",
    "    data = json.dumps({\n",
    "       \"paper_list\":[{\n",
    "                      \"Title\":\"Apolipoprotein M\",\n",
    "                      \"FirstAuthor\":\"Guanghua nj\",\n",
    "                      \"DOI\":\"10.1186/1476-511X-3-21\",\n",
    "                      \"MD5\":\"\"\n",
    "                     }]\n",
    "    }),\n",
    "    headers = {\"Content-Type\":\"application/json\"}\n",
    ").json()[\"response\"]\n",
    "res"
   ]
  },
  {
   "cell_type": "code",
   "execution_count": 47,
   "id": "7b576318-0b8a-429d-9856-03cf4e6f3500",
   "metadata": {},
   "outputs": [
    {
     "data": {
      "text/plain": [
       "1000"
      ]
     },
     "execution_count": 47,
     "metadata": {},
     "output_type": "execute_result"
    }
   ],
   "source": [
    "len(papers_batch)"
   ]
  },
  {
   "cell_type": "code",
   "execution_count": 60,
   "id": "2337e828-d176-403f-b9cd-59092307659d",
   "metadata": {},
   "outputs": [
    {
     "ename": "KeyError",
     "evalue": "'MD5'",
     "output_type": "error",
     "traceback": [
      "\u001b[0;31m---------------------------------------------------------------------------\u001b[0m",
      "\u001b[0;31mKeyError\u001b[0m                                  Traceback (most recent call last)",
      "\u001b[0;32m/tmp/ipykernel_475824/3701801151.py\u001b[0m in \u001b[0;36m<module>\u001b[0;34m\u001b[0m\n\u001b[0;32m----> 1\u001b[0;31m \u001b[0mpapers_batch\u001b[0m\u001b[0;34m[\u001b[0m\u001b[0;34m-\u001b[0m\u001b[0;36m2\u001b[0m\u001b[0;34m]\u001b[0m\u001b[0;34m[\u001b[0m\u001b[0;34m\"MD5\"\u001b[0m\u001b[0;34m]\u001b[0m\u001b[0;34m\u001b[0m\u001b[0;34m\u001b[0m\u001b[0m\n\u001b[0m",
      "\u001b[0;31mKeyError\u001b[0m: 'MD5'"
     ]
    }
   ],
   "source": [
    "papers_batch[-2][\"MD5\"]"
   ]
  },
  {
   "cell_type": "code",
   "execution_count": 62,
   "id": "3b20c140-16a8-47ea-80bc-302cadcc9b02",
   "metadata": {},
   "outputs": [
    {
     "data": {
      "text/plain": [
       "dict_keys(['Author', 'Title', 'Abstract', 'Venue', 'DOI', 'URL', 'PublicationDate', 'Abstract_in_metadata', 'isDuplicated', 'S2CID', 'PMID', 'PMCID', 'ArxivId', 'ACLId', 'MAGId', 'id_int', 'Last_update_unixtime', 'Content', 'Reference'])"
      ]
     },
     "execution_count": 62,
     "metadata": {},
     "output_type": "execute_result"
    }
   ],
   "source": [
    "papers_batch[-1].keys()"
   ]
  },
  {
   "cell_type": "code",
   "execution_count": null,
   "id": "05196e2b-9cd4-455f-b120-05ce2703183a",
   "metadata": {},
   "outputs": [],
   "source": []
  },
  {
   "cell_type": "code",
   "execution_count": null,
   "id": "c01f03c4-b8c3-4349-bce3-c4dfd22341c7",
   "metadata": {},
   "outputs": [],
   "source": []
  },
  {
   "cell_type": "code",
   "execution_count": null,
   "id": "dd6ea899-b62a-4da0-a4ce-21bb88a0c025",
   "metadata": {},
   "outputs": [],
   "source": []
  },
  {
   "cell_type": "code",
   "execution_count": 26,
   "id": "ffb8cdde-33d1-46e8-98a5-17b165e0fa9e",
   "metadata": {},
   "outputs": [],
   "source": [
    "s1=open(\"modules/paper_database/database_managers.py\").read()"
   ]
  },
  {
   "cell_type": "code",
   "execution_count": 27,
   "id": "f7839f6d-f839-4bee-accb-18c5a7b09a4c",
   "metadata": {},
   "outputs": [],
   "source": [
    "s2=open(\"/home/scieditor/science-editor/discovery_services/UserUploaded/src/modules/paper_database/database_managers.py\").read()"
   ]
  },
  {
   "cell_type": "code",
   "execution_count": 28,
   "id": "0622edc8-051a-4701-9a7b-44e7504167df",
   "metadata": {},
   "outputs": [
    {
     "data": {
      "text/plain": [
       "True"
      ]
     },
     "execution_count": 28,
     "metadata": {},
     "output_type": "execute_result"
    }
   ],
   "source": [
    "s1 == s2"
   ]
  },
  {
   "cell_type": "code",
   "execution_count": null,
   "id": "799361dd-2168-4cac-a170-22c357e60370",
   "metadata": {},
   "outputs": [],
   "source": []
  },
  {
   "cell_type": "code",
   "execution_count": null,
   "id": "dd1a100d-bd08-4abc-878b-b6473dbf30ed",
   "metadata": {},
   "outputs": [],
   "source": [
    "# TODO\n",
    "Implement the index_pdf function\n",
    "\n",
    "Set up the docker compose for the whole search engine"
   ]
  },
  {
   "cell_type": "code",
   "execution_count": null,
   "id": "8221cf66-6d9d-42ff-861f-f7ed42109ef6",
   "metadata": {},
   "outputs": [],
   "source": []
  },
  {
   "cell_type": "code",
   "execution_count": null,
   "id": "eb4dd079-f6e9-4aac-b613-7e0ae1483ac8",
   "metadata": {},
   "outputs": [],
   "source": []
  },
  {
   "cell_type": "code",
   "execution_count": null,
   "id": "260dd6d0-e439-495c-947e-6817d8758687",
   "metadata": {},
   "outputs": [],
   "source": []
  },
  {
   "cell_type": "code",
   "execution_count": null,
   "id": "1e46e116-3a80-4547-a62d-200b487893d7",
   "metadata": {},
   "outputs": [],
   "source": []
  },
  {
   "cell_type": "code",
   "execution_count": null,
   "id": "1cce4e25-4669-4658-8300-2e402f646218",
   "metadata": {},
   "outputs": [],
   "source": []
  },
  {
   "cell_type": "code",
   "execution_count": 10,
   "id": "325a0604-00ce-49f3-9cbc-c200816297eb",
   "metadata": {},
   "outputs": [],
   "source": [
    "class AA:\n",
    "    def __init__(self,p=999):\n",
    "        self.p = p"
   ]
  },
  {
   "cell_type": "code",
   "execution_count": 11,
   "id": "417f1479-3a53-4b5f-937a-9bf09adb59c0",
   "metadata": {},
   "outputs": [],
   "source": [
    "def modify():\n",
    "    global aa\n",
    "    aa = AA(88888)"
   ]
  },
  {
   "cell_type": "code",
   "execution_count": 12,
   "id": "cbdfcde4-0e50-4c6f-8006-a32526844c48",
   "metadata": {},
   "outputs": [],
   "source": [
    "aa = AA()"
   ]
  },
  {
   "cell_type": "code",
   "execution_count": 14,
   "id": "d1487145-fe14-43d9-a439-25bb02a73a1c",
   "metadata": {},
   "outputs": [
    {
     "data": {
      "text/plain": [
       "999"
      ]
     },
     "execution_count": 14,
     "metadata": {},
     "output_type": "execute_result"
    }
   ],
   "source": [
    "aa.p"
   ]
  },
  {
   "cell_type": "code",
   "execution_count": 15,
   "id": "8d8e1a3e-553c-490b-be72-b225f50ff501",
   "metadata": {},
   "outputs": [],
   "source": [
    "modify()"
   ]
  },
  {
   "cell_type": "code",
   "execution_count": 16,
   "id": "f687a66d-dc9c-4925-a730-08933f0bb474",
   "metadata": {},
   "outputs": [
    {
     "data": {
      "text/plain": [
       "88888"
      ]
     },
     "execution_count": 16,
     "metadata": {},
     "output_type": "execute_result"
    }
   ],
   "source": [
    "aa.p"
   ]
  },
  {
   "cell_type": "code",
   "execution_count": 13,
   "id": "014e9ff7-4619-4d3b-aeee-359bdfb67cfe",
   "metadata": {},
   "outputs": [],
   "source": [
    "import json"
   ]
  },
  {
   "cell_type": "code",
   "execution_count": 14,
   "id": "8ee4a126-ed68-436e-8a7b-e64038002360",
   "metadata": {},
   "outputs": [],
   "source": [
    "json.dump( {\"test\":9999}, open(\"test.json\",\"w\"))"
   ]
  },
  {
   "cell_type": "code",
   "execution_count": 15,
   "id": "6f5eaf41-0da3-4d35-bcbe-9bde6ff8bea0",
   "metadata": {},
   "outputs": [],
   "source": [
    "res = json.load(open(\"test.json\",\"r\"))"
   ]
  },
  {
   "cell_type": "code",
   "execution_count": 16,
   "id": "cef0ff2b-0074-49f0-846d-3999aa368458",
   "metadata": {},
   "outputs": [
    {
     "data": {
      "text/plain": [
       "{'test': 9999}"
      ]
     },
     "execution_count": 16,
     "metadata": {},
     "output_type": "execute_result"
    }
   ],
   "source": [
    "res"
   ]
  },
  {
   "cell_type": "code",
   "execution_count": 17,
   "id": "ef6135c6-8e0f-4db9-820a-63e2ec3d2909",
   "metadata": {},
   "outputs": [],
   "source": [
    "import os"
   ]
  },
  {
   "cell_type": "code",
   "execution_count": null,
   "id": "20a76693-aa36-4a99-b7c4-f36bab869b36",
   "metadata": {},
   "outputs": [],
   "source": [
    "os.makedirs(exist_ok=)"
   ]
  },
  {
   "cell_type": "code",
   "execution_count": null,
   "id": "ecce513e-ff70-4143-bc81-69dc39477c22",
   "metadata": {},
   "outputs": [],
   "source": []
  },
  {
   "cell_type": "code",
   "execution_count": 3,
   "id": "48ec63ed-9937-46b0-af71-883dfb403bd6",
   "metadata": {},
   "outputs": [
    {
     "data": {
      "application/vnd.jupyter.widget-view+json": {
       "model_id": "a8a1505014c947538bbf89bbf11649e3",
       "version_major": 2,
       "version_minor": 0
      },
      "text/plain": [
       "Downloading:   0%|          | 0.00/1.59k [00:00<?, ?B/s]"
      ]
     },
     "metadata": {},
     "output_type": "display_data"
    },
    {
     "data": {
      "application/vnd.jupyter.widget-view+json": {
       "model_id": "0b9cfb9dd4154446b6837545ee623f62",
       "version_major": 2,
       "version_minor": 0
      },
      "text/plain": [
       "Downloading:   0%|          | 0.00/660 [00:00<?, ?B/s]"
      ]
     },
     "metadata": {},
     "output_type": "display_data"
    },
    {
     "data": {
      "application/vnd.jupyter.widget-view+json": {
       "model_id": "9bf7b1407f554e859fd01a2923fd98c3",
       "version_major": 2,
       "version_minor": 0
      },
      "text/plain": [
       "Downloading:   0%|          | 0.00/437M [00:00<?, ?B/s]"
      ]
     },
     "metadata": {},
     "output_type": "display_data"
    },
    {
     "data": {
      "application/vnd.jupyter.widget-view+json": {
       "model_id": "3161bd122070439b931fe82cac13aed3",
       "version_major": 2,
       "version_minor": 0
      },
      "text/plain": [
       "Downloading:   0%|          | 0.00/125 [00:00<?, ?B/s]"
      ]
     },
     "metadata": {},
     "output_type": "display_data"
    },
    {
     "data": {
      "application/vnd.jupyter.widget-view+json": {
       "model_id": "470b2cf3f4ce4a08ac352ee026576b32",
       "version_major": 2,
       "version_minor": 0
      },
      "text/plain": [
       "Downloading:   0%|          | 0.00/717k [00:00<?, ?B/s]"
      ]
     },
     "metadata": {},
     "output_type": "display_data"
    },
    {
     "data": {
      "application/vnd.jupyter.widget-view+json": {
       "model_id": "1469fca25cc0492092c0ca3744b550cc",
       "version_major": 2,
       "version_minor": 0
      },
      "text/plain": [
       "Downloading:   0%|          | 0.00/393 [00:00<?, ?B/s]"
      ]
     },
     "metadata": {},
     "output_type": "display_data"
    },
    {
     "data": {
      "application/vnd.jupyter.widget-view+json": {
       "model_id": "dbe2e956dd4d492d87d7923f965707b0",
       "version_major": 2,
       "version_minor": 0
      },
      "text/plain": [
       "Downloading:   0%|          | 0.00/228k [00:00<?, ?B/s]"
      ]
     },
     "metadata": {},
     "output_type": "display_data"
    },
    {
     "data": {
      "application/vnd.jupyter.widget-view+json": {
       "model_id": "56b6cf98b1024eadae5c861a11087d52",
       "version_major": 2,
       "version_minor": 0
      },
      "text/plain": [
       "Downloading:   0%|          | 0.00/397M [00:00<?, ?B/s]"
      ]
     },
     "metadata": {},
     "output_type": "display_data"
    },
    {
     "data": {
      "application/vnd.jupyter.widget-view+json": {
       "model_id": "5279cb5b5323464bafe9a914255470c6",
       "version_major": 2,
       "version_minor": 0
      },
      "text/plain": [
       "Downloading:   0%|          | 0.00/397M [00:00<?, ?B/s]"
      ]
     },
     "metadata": {},
     "output_type": "display_data"
    },
    {
     "data": {
      "application/vnd.jupyter.widget-view+json": {
       "model_id": "f69b420d94b94d8dbea467996c3c856d",
       "version_major": 2,
       "version_minor": 0
      },
      "text/plain": [
       "Downloading:   0%|          | 0.00/320M [00:00<?, ?B/s]"
      ]
     },
     "metadata": {},
     "output_type": "display_data"
    },
    {
     "data": {
      "application/vnd.jupyter.widget-view+json": {
       "model_id": "3bd87c4beec244febd6b7874802630f0",
       "version_major": 2,
       "version_minor": 0
      },
      "text/plain": [
       "Downloading:   0%|          | 0.00/4.16M [00:00<?, ?B/s]"
      ]
     },
     "metadata": {},
     "output_type": "display_data"
    },
    {
     "data": {
      "application/vnd.jupyter.widget-view+json": {
       "model_id": "c602cdb1bc2e42609cb28da9be76bec4",
       "version_major": 2,
       "version_minor": 0
      },
      "text/plain": [
       "Downloading:   0%|          | 0.00/28.0 [00:00<?, ?B/s]"
      ]
     },
     "metadata": {},
     "output_type": "display_data"
    },
    {
     "data": {
      "text/plain": [
       "'./test_dir_new/BertSum'"
      ]
     },
     "execution_count": 3,
     "metadata": {},
     "output_type": "execute_result"
    }
   ],
   "source": [
    "from huggingface_hub import snapshot_download; import shutil; from glob import glob; model_folder = './test_dir_new/'; snapshot_download('scieditor/extractive-summarization', cache_dir = model_folder ); shutil.move( glob(model_folder+'/*/MemSum')[0], model_folder); shutil.move( glob(model_folder+'/*/BertSum')[0], model_folder)"
   ]
  },
  {
   "cell_type": "code",
   "execution_count": 4,
   "id": "6cd95004-ee9d-4416-a6a5-0e51fe7bf8b3",
   "metadata": {},
   "outputs": [
    {
     "data": {
      "text/plain": [
       "'PAPER_DATABASE_SERVICE_ADDRESS'"
      ]
     },
     "execution_count": 4,
     "metadata": {},
     "output_type": "execute_result"
    }
   ],
   "source": [
    "\"paper_database_service_address\".upper()"
   ]
  },
  {
   "cell_type": "code",
   "execution_count": 1,
   "id": "fc7d6596-cec1-4921-b3ed-250d2ff6ea3b",
   "metadata": {},
   "outputs": [
    {
     "name": "stderr",
     "output_type": "stream",
     "text": [
      "/home/scieditor/anaconda3/envs/trl/lib/python3.10/site-packages/tqdm/auto.py:21: TqdmWarning: IProgress not found. Please update jupyter and ipywidgets. See https://ipywidgets.readthedocs.io/en/stable/user_install.html\n",
      "  from .autonotebook import tqdm as notebook_tqdm\n"
     ]
    }
   ],
   "source": [
    "from huggingface_hub import snapshot_download\n",
    "import shutil\n",
    "from glob import glob"
   ]
  },
  {
   "cell_type": "code",
   "execution_count": 2,
   "id": "79779fbb-f121-4b19-ac8d-b3d5a2ce963d",
   "metadata": {},
   "outputs": [
    {
     "name": "stderr",
     "output_type": "stream",
     "text": [
      "Fetching 12 files: 100%|█████████████████████████████████████████████████████████████████████| 12/12 [00:00<00:00, 50.86it/s]\n"
     ]
    },
    {
     "data": {
      "text/plain": [
       "'/mnt/6a0e0140-bae2-41a5-9ee1-870470a807c1/nlp-service/test_dir_new'"
      ]
     },
     "execution_count": 2,
     "metadata": {},
     "output_type": "execute_result"
    }
   ],
   "source": [
    "model_folder = './test_dir_new/'\n",
    "snapshot_download('scieditor/extractive-summarization', local_dir = model_folder )\n",
    "# shutil.move( glob(model_folder+'/*/MemSum')[0], model_folder)\n",
    "# shutil.move( glob(model_folder+'/*/BertSum')[0], model_folder)"
   ]
  },
  {
   "cell_type": "code",
   "execution_count": 3,
   "id": "ebf2b9e4-9213-41bf-9a9f-43de741e2e6f",
   "metadata": {},
   "outputs": [],
   "source": [
    "!rm -r test_dir_new"
   ]
  },
  {
   "cell_type": "code",
   "execution_count": 79,
   "id": "2db256a7-b022-4a4e-bbe9-ccd327f4f2af",
   "metadata": {},
   "outputs": [
    {
     "data": {
      "text/plain": [
       "'./test_dir/BertSum'"
      ]
     },
     "execution_count": 79,
     "metadata": {},
     "output_type": "execute_result"
    }
   ],
   "source": []
  },
  {
   "cell_type": "code",
   "execution_count": 76,
   "id": "41203af3-5094-4138-9df1-828353e69057",
   "metadata": {},
   "outputs": [
    {
     "data": {
      "text/plain": [
       "['./test_dir/scieditor--extractive-summarization.main.6a3f3a5220804cf23f39a46d2253e5569427cde1/BertSum']"
      ]
     },
     "execution_count": 76,
     "metadata": {},
     "output_type": "execute_result"
    }
   ],
   "source": [
    "glob(\"./test_dir/*/BertSum\")"
   ]
  },
  {
   "cell_type": "code",
   "execution_count": null,
   "id": "912c29b1-996b-45c9-a655-7a599dbd9798",
   "metadata": {},
   "outputs": [],
   "source": []
  },
  {
   "cell_type": "code",
   "execution_count": null,
   "id": "c4a422f1-91c0-4803-8ce5-0c0a9d70f2c1",
   "metadata": {},
   "outputs": [],
   "source": []
  },
  {
   "cell_type": "code",
   "execution_count": 5,
   "id": "abab5adf-714a-4512-894b-e2806006feda",
   "metadata": {},
   "outputs": [
    {
     "data": {
      "text/plain": [
       "[{'paragraph_id': '4',\n",
       "  'section_id': '0',\n",
       "  'sentence_id': '1',\n",
       "  'sentence_text': 'This work addresses this gap by proposing a direct extrinsic calibration between a MEMS lidar and a state-of-the-art event camera.',\n",
       "  'tag': 'Fullbody_Parsed'},\n",
       " {'paragraph_id': '5',\n",
       "  'section_id': '0',\n",
       "  'sentence_id': '4',\n",
       "  'sentence_text': 'Indeed, we found that current state-of-the-art event cameras can directly register lidar laser signals as discrete events.',\n",
       "  'tag': 'Fullbody_Parsed'},\n",
       " {'paragraph_id': '6',\n",
       "  'section_id': '0',\n",
       "  'sentence_id': '0',\n",
       "  'sentence_text': 'In this paper, we present an automatic information-based method for calibrating a MEMS lidar with respect to an event-based camera. It leverages event-based structured light for static correspondence matching.',\n",
       "  'tag': 'Fullbody_Parsed'},\n",
       " {'paragraph_id': '6',\n",
       "  'section_id': '0',\n",
       "  'sentence_id': '1',\n",
       "  'sentence_text': 'In particular, we show how a dense lidar scan collected by a RoboSense RS-LiDAR-M1 [27] can be easily and reliably correlated to a series of events registered by a Prophesee GEN4.1 [24] event camera for robust calibration using accumulated event maps. Our key contributions can be summarized as follows:',\n",
       "  'tag': 'Fullbody_Parsed'},\n",
       " {'paragraph_id': '7',\n",
       "  'section_id': '0',\n",
       "  'sentence_id': '1',\n",
       "  'sentence_text': 'We propose a novel method to create an image reconstruction of a static scene using accumulated event maps from the lidar-correlated event activity.',\n",
       "  'tag': 'Fullbody_Parsed'},\n",
       " {'paragraph_id': '8',\n",
       "  'section_id': '0',\n",
       "  'sentence_id': '1',\n",
       "  'sentence_text': 'We present the first direct 6-DoF calibration between an event camera and a lidar using accumulated event maps and lidar point clouds.',\n",
       "  'tag': 'Fullbody_Parsed'},\n",
       " {'paragraph_id': '9',\n",
       "  'section_id': '0',\n",
       "  'sentence_id': '1',\n",
       "  'sentence_text': 'We investigate the impact of intrinsic calibration and scene selection on the accuracy of calibration results.',\n",
       "  'tag': 'Fullbody_Parsed'}]"
      ]
     },
     "execution_count": 5,
     "metadata": {},
     "output_type": "execute_result"
    }
   ],
   "source": [
    "res = requests.post(\n",
    "    \"http://localhost:8026/get-highlights\",\n",
    "    data = json.dumps(\n",
    "                        {\"paper_id\":{\"collection\":\"arXiv\", \n",
    "                                     \"id_field\":\"id_int\",\n",
    "                                     \"id_value\":10\n",
    "                                    }}\n",
    "                     ),\n",
    "    headers = {\"Content-Type\":\"application/json\"}\n",
    ").json()[\"response\"]\n",
    "res"
   ]
  },
  {
   "cell_type": "code",
   "execution_count": null,
   "id": "5a845fac-746e-4470-bbf8-095e15512edd",
   "metadata": {},
   "outputs": [],
   "source": []
  },
  {
   "cell_type": "code",
   "execution_count": 9,
   "id": "b81e8b65-2c64-4c0d-8b8b-bc8da111054b",
   "metadata": {},
   "outputs": [],
   "source": [
    "paper_id = {\"collection\":\"arXiv\", \n",
    "                                     \"id_field\":\"id_int\",\n",
    "                                     \"id_value\":10\n",
    "                                    }\n",
    "paper_content = requests.post(\n",
    "    \"http://localhost:8023/get-papers\",\n",
    "    data = json.dumps({\n",
    "        \"paper_list\":[paper_id],\n",
    "        \"projection\":{\"Title\":1, \"Abstract\":1}\n",
    "    }),\n",
    "    headers = {\"Content-Type\":\"application/json\"}\n",
    ").json()[\"response\"][0]"
   ]
  },
  {
   "cell_type": "code",
   "execution_count": 12,
   "id": "4fb9fa44-f51c-492c-8995-75eb03c0b025",
   "metadata": {},
   "outputs": [
    {
     "data": {
      "text/plain": [
       "['In #CIT, the authors propose a direct calibration method between a laser and a lidar sensor to optimize for 6-DoF intrinsic rewards.']"
      ]
     },
     "execution_count": 12,
     "metadata": {},
     "output_type": "execute_result"
    }
   ],
   "source": [
    "generated_citation = requests.post(\n",
    "    \"http://localhost:8027/generate-citation\",\n",
    "    data = json.dumps(\n",
    "                        {\"context_list\":[\"\"],\n",
    "                         \"keywords_list\":[\"intrinsic rewards\"],\n",
    "                         \"papers\":[paper_content]\n",
    "                        }\n",
    "                     ),\n",
    "    headers = {\"Content-Type\":\"application/json\"}\n",
    ").json()[\"response\"]\n",
    "generated_citation"
   ]
  },
  {
   "cell_type": "code",
   "execution_count": null,
   "id": "b880db2f-040a-4f1f-9772-fe1707051d4e",
   "metadata": {},
   "outputs": [],
   "source": []
  }
 ],
 "metadata": {
  "kernelspec": {
   "display_name": "Python [conda env:scieditor] *",
   "language": "python",
   "name": "conda-env-scieditor-py"
  },
  "language_info": {
   "codemirror_mode": {
    "name": "ipython",
    "version": 3
   },
   "file_extension": ".py",
   "mimetype": "text/x-python",
   "name": "python",
   "nbconvert_exporter": "python",
   "pygments_lexer": "ipython3",
   "version": "3.7.13"
  }
 },
 "nbformat": 4,
 "nbformat_minor": 5
}
